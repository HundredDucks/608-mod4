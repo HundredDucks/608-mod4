{
 "cells": [
  {
   "cell_type": "markdown",
   "id": "9f46c354-68a6-46bb-9236-295bce1fbdf3",
   "metadata": {},
   "source": [
    "5.5 Sequence Slicing Practice"
   ]
  },
  {
   "cell_type": "code",
   "execution_count": 1,
   "id": "ba739e41-46f7-446d-acc1-896657a097fa",
   "metadata": {},
   "outputs": [],
   "source": [
    "numbers = [2, 3, 5, 7, 11, 13, 17, 19]"
   ]
  },
  {
   "cell_type": "code",
   "execution_count": 2,
   "id": "c560dfaa-013e-454c-8ab0-17e70ccc7da5",
   "metadata": {},
   "outputs": [
    {
     "data": {
      "text/plain": [
       "[5, 7, 11, 13]"
      ]
     },
     "execution_count": 2,
     "metadata": {},
     "output_type": "execute_result"
    }
   ],
   "source": [
    "numbers[2:6]"
   ]
  },
  {
   "cell_type": "code",
   "execution_count": 6,
   "id": "16676687-a0b6-4bf0-822d-5564bab7b17c",
   "metadata": {},
   "outputs": [
    {
     "data": {
      "text/plain": [
       "[2, 3, 5, 7, 11, 13]"
      ]
     },
     "execution_count": 6,
     "metadata": {},
     "output_type": "execute_result"
    }
   ],
   "source": [
    "numbers[:6]"
   ]
  },
  {
   "cell_type": "code",
   "execution_count": 7,
   "id": "05df886a-9558-434c-8fb1-0ee3173569b0",
   "metadata": {},
   "outputs": [
    {
     "data": {
      "text/plain": [
       "[2, 3, 5, 7, 11, 13]"
      ]
     },
     "execution_count": 7,
     "metadata": {},
     "output_type": "execute_result"
    }
   ],
   "source": [
    "numbers[0:6]"
   ]
  },
  {
   "cell_type": "code",
   "execution_count": 8,
   "id": "3db76a2d-7a1f-4af1-a442-21c014c3f000",
   "metadata": {},
   "outputs": [
    {
     "data": {
      "text/plain": [
       "[17, 19]"
      ]
     },
     "execution_count": 8,
     "metadata": {},
     "output_type": "execute_result"
    }
   ],
   "source": [
    "numbers[6:]"
   ]
  },
  {
   "cell_type": "code",
   "execution_count": 9,
   "id": "59eaebc6-3a8d-4997-9f46-71d00d808b65",
   "metadata": {},
   "outputs": [
    {
     "data": {
      "text/plain": [
       "[17, 19]"
      ]
     },
     "execution_count": 9,
     "metadata": {},
     "output_type": "execute_result"
    }
   ],
   "source": [
    "numbers[6:len(numbers)]"
   ]
  },
  {
   "cell_type": "code",
   "execution_count": 10,
   "id": "70979a65-80e3-4ef6-b7e6-c232987fd702",
   "metadata": {},
   "outputs": [
    {
     "data": {
      "text/plain": [
       "[2, 3, 5, 7, 11, 13, 17, 19]"
      ]
     },
     "execution_count": 10,
     "metadata": {},
     "output_type": "execute_result"
    }
   ],
   "source": [
    "numbers[:]"
   ]
  },
  {
   "cell_type": "markdown",
   "id": "d0a982aa-6271-41e7-b8dc-a53ab84700a1",
   "metadata": {},
   "source": [
    "Slice with step [::]"
   ]
  },
  {
   "cell_type": "code",
   "execution_count": 11,
   "id": "58e70f90-6fa7-431f-9300-d901c07a9b91",
   "metadata": {},
   "outputs": [
    {
     "data": {
      "text/plain": [
       "[2, 5, 11, 17]"
      ]
     },
     "execution_count": 11,
     "metadata": {},
     "output_type": "execute_result"
    }
   ],
   "source": [
    "numbers[::2]"
   ]
  },
  {
   "cell_type": "markdown",
   "id": "e4091577-b1ee-4946-a004-427bd654b569",
   "metadata": {},
   "source": [
    "Slice w/ negative step to select slices in reverse order"
   ]
  },
  {
   "cell_type": "code",
   "execution_count": 12,
   "id": "fd14c4ea-7df9-42b1-9fee-fb57392add19",
   "metadata": {},
   "outputs": [
    {
     "data": {
      "text/plain": [
       "[19, 17, 13, 11, 7, 5, 3, 2]"
      ]
     },
     "execution_count": 12,
     "metadata": {},
     "output_type": "execute_result"
    }
   ],
   "source": [
    "numbers[::-1]"
   ]
  },
  {
   "cell_type": "code",
   "execution_count": 13,
   "id": "b834e113-ff1c-4bca-bbde-655e5f545834",
   "metadata": {},
   "outputs": [
    {
     "data": {
      "text/plain": [
       "[19, 17, 13, 11, 7, 5, 3, 2]"
      ]
     },
     "execution_count": 13,
     "metadata": {},
     "output_type": "execute_result"
    }
   ],
   "source": [
    "numbers[-1:-9:-1]"
   ]
  },
  {
   "cell_type": "markdown",
   "id": "f02355c4-b3f7-41ec-ae43-df7e828c7cfb",
   "metadata": {},
   "source": [
    "Modifying Lists Via Slices"
   ]
  },
  {
   "cell_type": "code",
   "execution_count": 14,
   "id": "bdecd239-df1f-4a6e-9a01-5bc9a28c3344",
   "metadata": {},
   "outputs": [],
   "source": [
    "numbers[0:3] = ['two', 'three', 'five']"
   ]
  },
  {
   "cell_type": "code",
   "execution_count": 15,
   "id": "092f9463-46a5-4e0c-9541-4ba2335b2807",
   "metadata": {},
   "outputs": [
    {
     "data": {
      "text/plain": [
       "['two', 'three', 'five', 7, 11, 13, 17, 19]"
      ]
     },
     "execution_count": 15,
     "metadata": {},
     "output_type": "execute_result"
    }
   ],
   "source": [
    "numbers"
   ]
  },
  {
   "cell_type": "code",
   "execution_count": 16,
   "id": "0954d437-c107-49c6-a24c-940513e86afe",
   "metadata": {},
   "outputs": [],
   "source": [
    "numbers[0:3] = []"
   ]
  },
  {
   "cell_type": "code",
   "execution_count": 17,
   "id": "15a498e1-3c30-437f-bd57-8fc234dc02d7",
   "metadata": {},
   "outputs": [
    {
     "data": {
      "text/plain": [
       "[7, 11, 13, 17, 19]"
      ]
     },
     "execution_count": 17,
     "metadata": {},
     "output_type": "execute_result"
    }
   ],
   "source": [
    "numbers"
   ]
  },
  {
   "cell_type": "code",
   "execution_count": 18,
   "id": "c218fc5f-0889-4894-99cb-5b6348aeca3a",
   "metadata": {},
   "outputs": [],
   "source": [
    "numbers = [2, 3, 5, 7, 11, 13, 17, 19]"
   ]
  },
  {
   "cell_type": "code",
   "execution_count": 19,
   "id": "15ca0a6d-4aea-41e9-b37d-daee1bf1735a",
   "metadata": {},
   "outputs": [],
   "source": [
    "numbers[::2] =[100, 100, 100, 100]"
   ]
  },
  {
   "cell_type": "code",
   "execution_count": 20,
   "id": "1b3f3b27-afa1-48e2-9d0c-327d93ba8ac2",
   "metadata": {},
   "outputs": [
    {
     "data": {
      "text/plain": [
       "[100, 3, 100, 7, 100, 13, 100, 19]"
      ]
     },
     "execution_count": 20,
     "metadata": {},
     "output_type": "execute_result"
    }
   ],
   "source": [
    "numbers"
   ]
  },
  {
   "cell_type": "code",
   "execution_count": 21,
   "id": "93faf3f0-1ecb-4753-9295-e8b851af4fe9",
   "metadata": {},
   "outputs": [
    {
     "data": {
      "text/plain": [
       "2379231571136"
      ]
     },
     "execution_count": 21,
     "metadata": {},
     "output_type": "execute_result"
    }
   ],
   "source": [
    "id(numbers)"
   ]
  },
  {
   "cell_type": "code",
   "execution_count": 22,
   "id": "2d1deca9-6b0f-4a46-8e95-441c72316c0d",
   "metadata": {},
   "outputs": [],
   "source": [
    "numbers[:] = []"
   ]
  },
  {
   "cell_type": "code",
   "execution_count": 23,
   "id": "15865407-135d-42d3-8037-ab781803dd66",
   "metadata": {},
   "outputs": [
    {
     "data": {
      "text/plain": [
       "[]"
      ]
     },
     "execution_count": 23,
     "metadata": {},
     "output_type": "execute_result"
    }
   ],
   "source": [
    "numbers"
   ]
  },
  {
   "cell_type": "code",
   "execution_count": 24,
   "id": "c4fa1f2a-dee1-4c53-b929-8251ac786e09",
   "metadata": {},
   "outputs": [
    {
     "data": {
      "text/plain": [
       "2379231571136"
      ]
     },
     "execution_count": 24,
     "metadata": {},
     "output_type": "execute_result"
    }
   ],
   "source": [
    "id(numbers)"
   ]
  },
  {
   "cell_type": "markdown",
   "id": "15b1215e-e686-453e-9521-b4328e899ac3",
   "metadata": {},
   "source": [
    "Deleting numbers' contents [:] is different from assigning it a new empty list = []"
   ]
  },
  {
   "cell_type": "code",
   "execution_count": 25,
   "id": "fb526757-d676-435a-914c-b6d3aeb6e8e1",
   "metadata": {},
   "outputs": [],
   "source": [
    "numbers = []"
   ]
  },
  {
   "cell_type": "code",
   "execution_count": 26,
   "id": "f1458e44-4d7c-4043-b5cb-69d8da50c6bc",
   "metadata": {},
   "outputs": [
    {
     "data": {
      "text/plain": [
       "[]"
      ]
     },
     "execution_count": 26,
     "metadata": {},
     "output_type": "execute_result"
    }
   ],
   "source": [
    "numbers"
   ]
  },
  {
   "cell_type": "code",
   "execution_count": 27,
   "id": "ae8c9fce-333f-4792-bc5e-f7e922a16604",
   "metadata": {},
   "outputs": [
    {
     "data": {
      "text/plain": [
       "2379231919936"
      ]
     },
     "execution_count": 27,
     "metadata": {},
     "output_type": "execute_result"
    }
   ],
   "source": [
    "id(numbers)"
   ]
  },
  {
   "cell_type": "markdown",
   "id": "667f0d72-b45c-4342-a2f9-0e66252feea3",
   "metadata": {},
   "source": [
    "5.5 Self Check 3"
   ]
  },
  {
   "cell_type": "code",
   "execution_count": 31,
   "id": "2cd5c15f-38f5-4dcd-b533-5c9015a7e06d",
   "metadata": {},
   "outputs": [],
   "source": [
    "numbers = list(range(1, 16))"
   ]
  },
  {
   "cell_type": "code",
   "execution_count": 32,
   "id": "64c760ba-2d62-4350-ac67-ea333590a32c",
   "metadata": {},
   "outputs": [
    {
     "data": {
      "text/plain": [
       "[1, 2, 3, 4, 5, 6, 7, 8, 9, 10, 11, 12, 13, 14, 15]"
      ]
     },
     "execution_count": 32,
     "metadata": {},
     "output_type": "execute_result"
    }
   ],
   "source": [
    "numbers"
   ]
  },
  {
   "cell_type": "code",
   "execution_count": 34,
   "id": "eb1c2ebe-8c9e-45c3-8001-af16fb991fac",
   "metadata": {},
   "outputs": [
    {
     "data": {
      "text/plain": [
       "[2, 4, 6, 8, 10, 12, 14]"
      ]
     },
     "execution_count": 34,
     "metadata": {},
     "output_type": "execute_result"
    }
   ],
   "source": [
    "numbers[1:len(numbers):2]"
   ]
  },
  {
   "cell_type": "code",
   "execution_count": 35,
   "id": "5ffd1d30-edc3-45fe-af1c-fd7195863302",
   "metadata": {},
   "outputs": [],
   "source": [
    "numbers[5:10] = [0] * len(numbers[5:10])"
   ]
  },
  {
   "cell_type": "code",
   "execution_count": 36,
   "id": "e6b31479-9d4e-4348-ae53-dfea2bd59f15",
   "metadata": {},
   "outputs": [
    {
     "data": {
      "text/plain": [
       "[1, 2, 3, 4, 5, 0, 0, 0, 0, 0, 11, 12, 13, 14, 15]"
      ]
     },
     "execution_count": 36,
     "metadata": {},
     "output_type": "execute_result"
    }
   ],
   "source": [
    "numbers"
   ]
  },
  {
   "cell_type": "code",
   "execution_count": 37,
   "id": "bdedf509-7c77-4565-bcd6-19059ac66e30",
   "metadata": {},
   "outputs": [],
   "source": [
    "numbers[5:] = []"
   ]
  },
  {
   "cell_type": "code",
   "execution_count": 38,
   "id": "a7da231c-6af5-4496-8328-fb571c4d7fa8",
   "metadata": {},
   "outputs": [
    {
     "data": {
      "text/plain": [
       "[1, 2, 3, 4, 5]"
      ]
     },
     "execution_count": 38,
     "metadata": {},
     "output_type": "execute_result"
    }
   ],
   "source": [
    "numbers"
   ]
  },
  {
   "cell_type": "code",
   "execution_count": 39,
   "id": "4fb39c15-bebf-4884-aaaa-b11d94285904",
   "metadata": {},
   "outputs": [],
   "source": [
    "numbers[:] = []"
   ]
  },
  {
   "cell_type": "code",
   "execution_count": 40,
   "id": "cbbd7aa1-e76a-4d15-aa4f-4b7d18823455",
   "metadata": {},
   "outputs": [
    {
     "data": {
      "text/plain": [
       "[]"
      ]
     },
     "execution_count": 40,
     "metadata": {},
     "output_type": "execute_result"
    }
   ],
   "source": [
    "numbers"
   ]
  },
  {
   "cell_type": "markdown",
   "id": "afd751d7-6062-4840-95f1-a9a43ec34f6f",
   "metadata": {},
   "source": [
    "recall that multiplying a sequence repeates that sequence the specified number of times"
   ]
  },
  {
   "cell_type": "markdown",
   "id": "cc628221-4c3d-45e7-bde4-a726204349e2",
   "metadata": {},
   "source": [
    "5.6 del Statement Practice"
   ]
  },
  {
   "cell_type": "markdown",
   "id": "f1eba110-d808-459c-8756-ae52c1c43022",
   "metadata": {},
   "source": [
    "Deleting Element at a Specific List Index"
   ]
  },
  {
   "cell_type": "code",
   "execution_count": 41,
   "id": "073f49ba-4d62-4551-abe5-0af0b0406bd4",
   "metadata": {},
   "outputs": [],
   "source": [
    "numbers = list(range(0, 10))"
   ]
  },
  {
   "cell_type": "code",
   "execution_count": 42,
   "id": "79ab5bb2-7118-4a0d-8ce1-88474b747ae8",
   "metadata": {},
   "outputs": [
    {
     "data": {
      "text/plain": [
       "[0, 1, 2, 3, 4, 5, 6, 7, 8, 9]"
      ]
     },
     "execution_count": 42,
     "metadata": {},
     "output_type": "execute_result"
    }
   ],
   "source": [
    "numbers"
   ]
  },
  {
   "cell_type": "code",
   "execution_count": 43,
   "id": "f096627d-859b-4a3f-a91d-f1e7fc8305c2",
   "metadata": {},
   "outputs": [],
   "source": [
    "del numbers[-1]"
   ]
  },
  {
   "cell_type": "code",
   "execution_count": 44,
   "id": "179e8628-d0f4-45b5-bca9-d441b1fdae27",
   "metadata": {},
   "outputs": [
    {
     "data": {
      "text/plain": [
       "[0, 1, 2, 3, 4, 5, 6, 7, 8]"
      ]
     },
     "execution_count": 44,
     "metadata": {},
     "output_type": "execute_result"
    }
   ],
   "source": [
    "numbers"
   ]
  },
  {
   "cell_type": "markdown",
   "id": "39f716f8-76fc-465f-a01b-91dca24ff15d",
   "metadata": {},
   "source": [
    "Deleting a slice from a list"
   ]
  },
  {
   "cell_type": "code",
   "execution_count": 45,
   "id": "47066bf2-7779-4089-b885-203d1f2e1510",
   "metadata": {},
   "outputs": [],
   "source": [
    "del numbers[0:2]"
   ]
  },
  {
   "cell_type": "code",
   "execution_count": 46,
   "id": "57024778-8364-42f0-bee8-1ae64d17e670",
   "metadata": {},
   "outputs": [
    {
     "data": {
      "text/plain": [
       "[2, 3, 4, 5, 6, 7, 8]"
      ]
     },
     "execution_count": 46,
     "metadata": {},
     "output_type": "execute_result"
    }
   ],
   "source": [
    "numbers"
   ]
  },
  {
   "cell_type": "code",
   "execution_count": 47,
   "id": "615ce018-cee8-4aab-8e56-93bb6030a94a",
   "metadata": {},
   "outputs": [],
   "source": [
    "del numbers[::2]"
   ]
  },
  {
   "cell_type": "code",
   "execution_count": 48,
   "id": "8bc3f917-70bb-4db4-9558-c9a8e7b5e1b9",
   "metadata": {},
   "outputs": [
    {
     "data": {
      "text/plain": [
       "[3, 5, 7]"
      ]
     },
     "execution_count": 48,
     "metadata": {},
     "output_type": "execute_result"
    }
   ],
   "source": [
    "numbers"
   ]
  },
  {
   "cell_type": "markdown",
   "id": "e8d46778-6417-4f96-990a-d716cd813957",
   "metadata": {},
   "source": [
    "Deleting a slice represnting the entire list"
   ]
  },
  {
   "cell_type": "code",
   "execution_count": 49,
   "id": "f378dd4c-4b46-4999-a97c-f22a8fe0fe41",
   "metadata": {},
   "outputs": [],
   "source": [
    "del numbers[:]"
   ]
  },
  {
   "cell_type": "code",
   "execution_count": 50,
   "id": "7f17e3d2-5f0f-4180-b57a-7bf9392f3042",
   "metadata": {},
   "outputs": [
    {
     "data": {
      "text/plain": [
       "[]"
      ]
     },
     "execution_count": 50,
     "metadata": {},
     "output_type": "execute_result"
    }
   ],
   "source": [
    "numbers"
   ]
  },
  {
   "cell_type": "markdown",
   "id": "432deaeb-92f3-4519-8abc-ad5697b9d115",
   "metadata": {},
   "source": [
    "Deleting a variable from the current session"
   ]
  },
  {
   "cell_type": "code",
   "execution_count": 52,
   "id": "6dc755bb-bdbc-4bcf-8bc8-6b5630909e02",
   "metadata": {},
   "outputs": [],
   "source": [
    "del numbers"
   ]
  },
  {
   "cell_type": "code",
   "execution_count": 53,
   "id": "ef07c1e3-01e7-493e-b5fe-c35f4e26aa60",
   "metadata": {},
   "outputs": [
    {
     "ename": "NameError",
     "evalue": "name 'numbers' is not defined",
     "output_type": "error",
     "traceback": [
      "\u001b[1;31m---------------------------------------------------------------------------\u001b[0m",
      "\u001b[1;31mNameError\u001b[0m                                 Traceback (most recent call last)",
      "Input \u001b[1;32mIn [53]\u001b[0m, in \u001b[0;36m<cell line: 1>\u001b[1;34m()\u001b[0m\n\u001b[1;32m----> 1\u001b[0m \u001b[43mnumbers\u001b[49m\n",
      "\u001b[1;31mNameError\u001b[0m: name 'numbers' is not defined"
     ]
    }
   ],
   "source": [
    "numbers"
   ]
  },
  {
   "cell_type": "markdown",
   "id": "c338bacf-0fb7-4660-ba61-e2c861bd0700",
   "metadata": {},
   "source": [
    "5.6 Self Check 2"
   ]
  },
  {
   "cell_type": "code",
   "execution_count": 54,
   "id": "17f846a2-37d2-47e7-aea6-3a50360454ee",
   "metadata": {},
   "outputs": [],
   "source": [
    "numbers = list(range(1, 16))"
   ]
  },
  {
   "cell_type": "code",
   "execution_count": 55,
   "id": "e2611330-0d89-4a1a-9321-b998a63399c5",
   "metadata": {},
   "outputs": [
    {
     "data": {
      "text/plain": [
       "[1, 2, 3, 4, 5, 6, 7, 8, 9, 10, 11, 12, 13, 14, 15]"
      ]
     },
     "execution_count": 55,
     "metadata": {},
     "output_type": "execute_result"
    }
   ],
   "source": [
    "numbers"
   ]
  },
  {
   "cell_type": "code",
   "execution_count": 57,
   "id": "83925b79-272e-488c-8656-5741ba5bc303",
   "metadata": {},
   "outputs": [],
   "source": [
    "del numbers[:4]"
   ]
  },
  {
   "cell_type": "code",
   "execution_count": 58,
   "id": "22b52e49-2abe-45f6-8e88-8b8e4aa21f63",
   "metadata": {},
   "outputs": [
    {
     "data": {
      "text/plain": [
       "[5, 6, 7, 8, 9, 10, 11, 12, 13, 14, 15]"
      ]
     },
     "execution_count": 58,
     "metadata": {},
     "output_type": "execute_result"
    }
   ],
   "source": [
    "numbers"
   ]
  },
  {
   "cell_type": "code",
   "execution_count": 59,
   "id": "3eef1b61-25ec-43cd-aed7-b43543f0c1f0",
   "metadata": {},
   "outputs": [],
   "source": [
    "del numbers[::2]"
   ]
  },
  {
   "cell_type": "code",
   "execution_count": 60,
   "id": "d36f6347-5596-4d04-a133-813348099f55",
   "metadata": {},
   "outputs": [
    {
     "data": {
      "text/plain": [
       "[6, 8, 10, 12, 14]"
      ]
     },
     "execution_count": 60,
     "metadata": {},
     "output_type": "execute_result"
    }
   ],
   "source": [
    "numbers"
   ]
  },
  {
   "cell_type": "markdown",
   "id": "4a3bf62f-589a-4be1-a16b-76b9dd46b91c",
   "metadata": {},
   "source": [
    "5.7 Passing Lists to Functions Practice"
   ]
  },
  {
   "cell_type": "markdown",
   "id": "39fccb55-6730-4b7d-a90f-99960c3c09bb",
   "metadata": {},
   "source": [
    "Passing an Entire List to a Function"
   ]
  },
  {
   "cell_type": "code",
   "execution_count": 64,
   "id": "12a17d8a-aaa8-41e3-8266-4e1319b8781c",
   "metadata": {},
   "outputs": [],
   "source": [
    "def modify_elements(items):\n",
    "    \"\"\"Multiplies all element values in items by 2.\"\"\"\n",
    "    for i in range(len(items)):\n",
    "        items[i] *= 2"
   ]
  },
  {
   "cell_type": "code",
   "execution_count": 65,
   "id": "7d03b5d7-de7f-414e-967c-390593bf58d3",
   "metadata": {},
   "outputs": [],
   "source": [
    "numbers = [10, 3, 7, 1, 9]"
   ]
  },
  {
   "cell_type": "code",
   "execution_count": 66,
   "id": "e0574493-511a-4eb2-b4c9-97e3465461c2",
   "metadata": {},
   "outputs": [],
   "source": [
    "modify_elements(numbers)"
   ]
  },
  {
   "cell_type": "code",
   "execution_count": 67,
   "id": "1f225b55-a783-47cc-a63e-449e853d8df0",
   "metadata": {},
   "outputs": [
    {
     "data": {
      "text/plain": [
       "[20, 6, 14, 2, 18]"
      ]
     },
     "execution_count": 67,
     "metadata": {},
     "output_type": "execute_result"
    }
   ],
   "source": [
    "numbers"
   ]
  },
  {
   "cell_type": "markdown",
   "id": "efb117e7-4cf8-47f5-a8b3-b837c8d74d37",
   "metadata": {},
   "source": [
    "Passing a tuple to a function (attempting to modify the tuple's immutable elements results in TypeError)"
   ]
  },
  {
   "cell_type": "code",
   "execution_count": 68,
   "id": "0e926aa5-0914-401f-8228-8f9235ac0c56",
   "metadata": {},
   "outputs": [],
   "source": [
    "numbers_tuple = (10, 20, 30)"
   ]
  },
  {
   "cell_type": "code",
   "execution_count": 69,
   "id": "c283e315-3449-4900-8bae-e139060f8778",
   "metadata": {},
   "outputs": [
    {
     "data": {
      "text/plain": [
       "(10, 20, 30)"
      ]
     },
     "execution_count": 69,
     "metadata": {},
     "output_type": "execute_result"
    }
   ],
   "source": [
    "numbers_tuple"
   ]
  },
  {
   "cell_type": "code",
   "execution_count": 70,
   "id": "684758e7-1f14-4f19-846a-a582c5e3a2a3",
   "metadata": {},
   "outputs": [
    {
     "ename": "TypeError",
     "evalue": "'tuple' object does not support item assignment",
     "output_type": "error",
     "traceback": [
      "\u001b[1;31m---------------------------------------------------------------------------\u001b[0m",
      "\u001b[1;31mTypeError\u001b[0m                                 Traceback (most recent call last)",
      "Input \u001b[1;32mIn [70]\u001b[0m, in \u001b[0;36m<cell line: 1>\u001b[1;34m()\u001b[0m\n\u001b[1;32m----> 1\u001b[0m \u001b[43mmodify_elements\u001b[49m\u001b[43m(\u001b[49m\u001b[43mnumbers_tuple\u001b[49m\u001b[43m)\u001b[49m\n",
      "Input \u001b[1;32mIn [64]\u001b[0m, in \u001b[0;36mmodify_elements\u001b[1;34m(items)\u001b[0m\n\u001b[0;32m      2\u001b[0m \u001b[38;5;124;03m\"\"\"Multiplies all element values in items by 2.\"\"\"\u001b[39;00m\n\u001b[0;32m      3\u001b[0m \u001b[38;5;28;01mfor\u001b[39;00m i \u001b[38;5;129;01min\u001b[39;00m \u001b[38;5;28mrange\u001b[39m(\u001b[38;5;28mlen\u001b[39m(items)):\n\u001b[1;32m----> 4\u001b[0m     items[i] \u001b[38;5;241m*\u001b[39m\u001b[38;5;241m=\u001b[39m \u001b[38;5;241m2\u001b[39m\n",
      "\u001b[1;31mTypeError\u001b[0m: 'tuple' object does not support item assignment"
     ]
    }
   ],
   "source": [
    "modify_elements(numbers_tuple)"
   ]
  },
  {
   "cell_type": "markdown",
   "id": "5161bdf1-1a7d-4fad-858b-0dac4d399f84",
   "metadata": {},
   "source": [
    "5.8 Sorting Lists Practice"
   ]
  },
  {
   "cell_type": "markdown",
   "id": "a12cbc89-799d-4ccb-9aa6-cad2c72b8b92",
   "metadata": {},
   "source": [
    "Sorting a list in ascending order"
   ]
  },
  {
   "cell_type": "code",
   "execution_count": 71,
   "id": "e9924219-ca1f-4a87-a132-e60579226091",
   "metadata": {},
   "outputs": [],
   "source": [
    "numbers = [10, 3, 7, 1, 9, 4, 2, 8, 5, 6]"
   ]
  },
  {
   "cell_type": "code",
   "execution_count": 72,
   "id": "f68a07ad-8166-4c3f-9bb5-5ed7a5a29cc8",
   "metadata": {},
   "outputs": [],
   "source": [
    "numbers.sort()"
   ]
  },
  {
   "cell_type": "code",
   "execution_count": 73,
   "id": "dc6f33df-007b-4398-8772-f5e0e4175f09",
   "metadata": {},
   "outputs": [
    {
     "data": {
      "text/plain": [
       "[1, 2, 3, 4, 5, 6, 7, 8, 9, 10]"
      ]
     },
     "execution_count": 73,
     "metadata": {},
     "output_type": "execute_result"
    }
   ],
   "source": [
    "numbers"
   ]
  },
  {
   "cell_type": "markdown",
   "id": "ef67d1de-66ff-4077-b8e1-5a407e0a24ec",
   "metadata": {},
   "source": [
    "Sorting a list in descending order"
   ]
  },
  {
   "cell_type": "code",
   "execution_count": 75,
   "id": "a2fb8a0e-8326-4081-9678-1996691bc954",
   "metadata": {},
   "outputs": [],
   "source": [
    "numbers.sort(reverse=True)"
   ]
  },
  {
   "cell_type": "code",
   "execution_count": 76,
   "id": "cda3203d-625f-4c5f-a01e-2e664cd51d40",
   "metadata": {},
   "outputs": [
    {
     "data": {
      "text/plain": [
       "[10, 9, 8, 7, 6, 5, 4, 3, 2, 1]"
      ]
     },
     "execution_count": 76,
     "metadata": {},
     "output_type": "execute_result"
    }
   ],
   "source": [
    "numbers"
   ]
  },
  {
   "cell_type": "markdown",
   "id": "3ecc4698-ca8f-40c7-817a-f40c3ab9a506",
   "metadata": {},
   "source": [
    "BUilt-In Function sorted"
   ]
  },
  {
   "cell_type": "code",
   "execution_count": 77,
   "id": "d3a39704-d752-4366-b3b0-e7314a6eaa85",
   "metadata": {},
   "outputs": [],
   "source": [
    "numbers = [10, 3, 7, 1, 9, 4, 2, 8, 5, 6]"
   ]
  },
  {
   "cell_type": "code",
   "execution_count": 78,
   "id": "3939d49a-37f6-4271-9a8c-0b0690bd48f7",
   "metadata": {},
   "outputs": [],
   "source": [
    "ascending_numbers = sorted(numbers)"
   ]
  },
  {
   "cell_type": "code",
   "execution_count": 79,
   "id": "3643e38b-a5b4-4b85-93e4-36afa8e3e20f",
   "metadata": {},
   "outputs": [
    {
     "data": {
      "text/plain": [
       "[1, 2, 3, 4, 5, 6, 7, 8, 9, 10]"
      ]
     },
     "execution_count": 79,
     "metadata": {},
     "output_type": "execute_result"
    }
   ],
   "source": [
    "ascending_numbers"
   ]
  },
  {
   "cell_type": "code",
   "execution_count": 80,
   "id": "0c8aef42-4fcc-4f65-9378-a3051b42929b",
   "metadata": {},
   "outputs": [
    {
     "data": {
      "text/plain": [
       "[10, 3, 7, 1, 9, 4, 2, 8, 5, 6]"
      ]
     },
     "execution_count": 80,
     "metadata": {},
     "output_type": "execute_result"
    }
   ],
   "source": [
    "numbers"
   ]
  },
  {
   "cell_type": "code",
   "execution_count": 81,
   "id": "95c789fc-19e0-465e-998c-f8b20e914246",
   "metadata": {},
   "outputs": [],
   "source": [
    "letters = 'fadgchjebi'"
   ]
  },
  {
   "cell_type": "code",
   "execution_count": 82,
   "id": "21216c7b-f9e3-4810-ba72-bee16a55aa4e",
   "metadata": {},
   "outputs": [],
   "source": [
    "ascending_letters = sorted(letters)"
   ]
  },
  {
   "cell_type": "code",
   "execution_count": 83,
   "id": "678e13fb-8778-4f58-8797-ca5d27f81bb4",
   "metadata": {},
   "outputs": [
    {
     "data": {
      "text/plain": [
       "['a', 'b', 'c', 'd', 'e', 'f', 'g', 'h', 'i', 'j']"
      ]
     },
     "execution_count": 83,
     "metadata": {},
     "output_type": "execute_result"
    }
   ],
   "source": [
    "ascending_letters"
   ]
  },
  {
   "cell_type": "code",
   "execution_count": 84,
   "id": "7aa3447b-ff16-45dc-b0e8-3e239c5d6ae7",
   "metadata": {},
   "outputs": [
    {
     "data": {
      "text/plain": [
       "'fadgchjebi'"
      ]
     },
     "execution_count": 84,
     "metadata": {},
     "output_type": "execute_result"
    }
   ],
   "source": [
    "letters"
   ]
  },
  {
   "cell_type": "code",
   "execution_count": 85,
   "id": "65f3557a-93c9-4144-96b1-fb273b21e9e3",
   "metadata": {},
   "outputs": [],
   "source": [
    "colors = ('red', 'orange', 'yellow', 'green', 'blue')"
   ]
  },
  {
   "cell_type": "code",
   "execution_count": 86,
   "id": "96478421-f753-4202-b638-ad09d5a698f6",
   "metadata": {},
   "outputs": [],
   "source": [
    "ascending_colors = sorted(colors)"
   ]
  },
  {
   "cell_type": "code",
   "execution_count": 87,
   "id": "dff57cac-3a98-42ab-a42a-258936b6e708",
   "metadata": {},
   "outputs": [
    {
     "data": {
      "text/plain": [
       "['blue', 'green', 'orange', 'red', 'yellow']"
      ]
     },
     "execution_count": 87,
     "metadata": {},
     "output_type": "execute_result"
    }
   ],
   "source": [
    "ascending_colors"
   ]
  },
  {
   "cell_type": "code",
   "execution_count": 88,
   "id": "f132c74a-e9db-4636-a088-6e36993e4191",
   "metadata": {},
   "outputs": [
    {
     "data": {
      "text/plain": [
       "('red', 'orange', 'yellow', 'green', 'blue')"
      ]
     },
     "execution_count": 88,
     "metadata": {},
     "output_type": "execute_result"
    }
   ],
   "source": [
    "colors"
   ]
  },
  {
   "cell_type": "markdown",
   "id": "d70b0dad-6ab5-477d-a895-8c3e5708ea88",
   "metadata": {},
   "source": [
    "5.8 Self Check 3"
   ]
  },
  {
   "cell_type": "code",
   "execution_count": 89,
   "id": "e6a074a7-de0d-443d-a501-67c1ab6d4515",
   "metadata": {},
   "outputs": [],
   "source": [
    "foods = ['Cookies', 'pizza', 'Grapes', 'apples', 'steak', 'Bacon']"
   ]
  },
  {
   "cell_type": "code",
   "execution_count": 90,
   "id": "a75f0d66-3d0d-4aab-b285-1ebb97e0a169",
   "metadata": {},
   "outputs": [],
   "source": [
    "foods.sort()"
   ]
  },
  {
   "cell_type": "code",
   "execution_count": 91,
   "id": "02641fdf-f1ca-495d-baa7-caa66432c701",
   "metadata": {},
   "outputs": [
    {
     "data": {
      "text/plain": [
       "['Bacon', 'Cookies', 'Grapes', 'apples', 'pizza', 'steak']"
      ]
     },
     "execution_count": 91,
     "metadata": {},
     "output_type": "execute_result"
    }
   ],
   "source": [
    "foods"
   ]
  },
  {
   "cell_type": "markdown",
   "id": "eb53ad78-6dcd-4a52-bd8b-711e7a0e6028",
   "metadata": {},
   "source": [
    "5.9 Searching Sequences Practice"
   ]
  },
  {
   "cell_type": "markdown",
   "id": "1476c96f-1b71-424d-87d8-8a641a794828",
   "metadata": {},
   "source": [
    "List Method index"
   ]
  },
  {
   "cell_type": "code",
   "execution_count": 92,
   "id": "e81f056e-8062-4607-a335-6c3e0b202592",
   "metadata": {},
   "outputs": [],
   "source": [
    "numbers = [3, 7, 1, 4, 2, 8, 5, 6]"
   ]
  },
  {
   "cell_type": "code",
   "execution_count": 93,
   "id": "70d646e8-e232-4367-a00a-4bf46e1dac05",
   "metadata": {},
   "outputs": [
    {
     "data": {
      "text/plain": [
       "6"
      ]
     },
     "execution_count": 93,
     "metadata": {},
     "output_type": "execute_result"
    }
   ],
   "source": [
    "numbers.index(5)"
   ]
  },
  {
   "cell_type": "markdown",
   "id": "a90880d9-4c1c-4701-97fd-5168ea410ded",
   "metadata": {},
   "source": [
    "Specifying the starting index of a search"
   ]
  },
  {
   "cell_type": "code",
   "execution_count": 94,
   "id": "621d31ce-68d2-4f16-842b-0fb75786dbd7",
   "metadata": {},
   "outputs": [],
   "source": [
    "numbers *= 2 #numbers will now contain 2 copies of original lists' contents"
   ]
  },
  {
   "cell_type": "code",
   "execution_count": 95,
   "id": "3d63d444-0b29-4f05-bd3e-b953c6ad6904",
   "metadata": {},
   "outputs": [
    {
     "data": {
      "text/plain": [
       "[3, 7, 1, 4, 2, 8, 5, 6, 3, 7, 1, 4, 2, 8, 5, 6]"
      ]
     },
     "execution_count": 95,
     "metadata": {},
     "output_type": "execute_result"
    }
   ],
   "source": [
    "numbers"
   ]
  },
  {
   "cell_type": "markdown",
   "id": "22ea7e6d-2b9a-4367-860c-001162246575",
   "metadata": {},
   "source": [
    "following searches updated list for the value 5 starting from index 7"
   ]
  },
  {
   "cell_type": "code",
   "execution_count": 96,
   "id": "c7f51254-0c92-4887-8344-2e119f1a764b",
   "metadata": {},
   "outputs": [
    {
     "data": {
      "text/plain": [
       "14"
      ]
     },
     "execution_count": 96,
     "metadata": {},
     "output_type": "execute_result"
    }
   ],
   "source": [
    "numbers.index(5, 7)"
   ]
  },
  {
   "cell_type": "markdown",
   "id": "181b8ee3-a5cf-484d-be4a-d5fb60b2a8f3",
   "metadata": {},
   "source": [
    "Specifying the starting and ending indices of a search"
   ]
  },
  {
   "cell_type": "code",
   "execution_count": 97,
   "id": "69630ca7-4cfd-4fa6-b52b-82651af912ca",
   "metadata": {},
   "outputs": [],
   "source": [
    "#numbers.index(5, 7) assumes length of numbers as its optional third argument and is equivalent to:\n",
    "#numbers.index(5, 7, len(numbers))"
   ]
  },
  {
   "cell_type": "code",
   "execution_count": 98,
   "id": "6496a433-7fb8-441d-b4ba-7821fb2157c0",
   "metadata": {},
   "outputs": [
    {
     "data": {
      "text/plain": [
       "1"
      ]
     },
     "execution_count": 98,
     "metadata": {},
     "output_type": "execute_result"
    }
   ],
   "source": [
    "#the following looks for value 7 in range of elements with indices 0 through 3\n",
    "numbers.index(7, 0, 4)"
   ]
  },
  {
   "cell_type": "markdown",
   "id": "11e7ef37-1693-4188-8de3-2d5993ab460f",
   "metadata": {},
   "source": [
    "Operatots in and not in"
   ]
  },
  {
   "cell_type": "code",
   "execution_count": 99,
   "id": "ba692081-ee19-4649-9b94-f9d0acf3411e",
   "metadata": {},
   "outputs": [
    {
     "data": {
      "text/plain": [
       "False"
      ]
     },
     "execution_count": 99,
     "metadata": {},
     "output_type": "execute_result"
    }
   ],
   "source": [
    "#in tests whether its right operand's iterable contains the left operand's value:\n",
    "1000 in numbers"
   ]
  },
  {
   "cell_type": "code",
   "execution_count": 100,
   "id": "54681831-4e18-4a34-bf34-4cc76a08fb32",
   "metadata": {},
   "outputs": [
    {
     "data": {
      "text/plain": [
       "True"
      ]
     },
     "execution_count": 100,
     "metadata": {},
     "output_type": "execute_result"
    }
   ],
   "source": [
    "5 in numbers"
   ]
  },
  {
   "cell_type": "code",
   "execution_count": 102,
   "id": "3fd00e33-50d6-42c1-a259-59cfbca89739",
   "metadata": {},
   "outputs": [
    {
     "data": {
      "text/plain": [
       "True"
      ]
     },
     "execution_count": 102,
     "metadata": {},
     "output_type": "execute_result"
    }
   ],
   "source": [
    "1000 not in numbers"
   ]
  },
  {
   "cell_type": "code",
   "execution_count": 103,
   "id": "01850bfa-de2f-444d-805f-9c8c08c0397f",
   "metadata": {},
   "outputs": [
    {
     "data": {
      "text/plain": [
       "False"
      ]
     },
     "execution_count": 103,
     "metadata": {},
     "output_type": "execute_result"
    }
   ],
   "source": [
    "5 not in numbers"
   ]
  },
  {
   "cell_type": "markdown",
   "id": "c5241e39-7c20-4f1f-b39a-ebb138ba456f",
   "metadata": {},
   "source": [
    "Using Operator in to Prevent a ValueError"
   ]
  },
  {
   "cell_type": "code",
   "execution_count": 104,
   "id": "eb93d51c-25ce-4957-8f82-c287bd5045a4",
   "metadata": {},
   "outputs": [],
   "source": [
    "key = 1000"
   ]
  },
  {
   "cell_type": "code",
   "execution_count": 106,
   "id": "9409e7e9-35b2-468d-8d44-bf710001f894",
   "metadata": {},
   "outputs": [
    {
     "name": "stdout",
     "output_type": "stream",
     "text": [
      "1000 not found\n"
     ]
    }
   ],
   "source": [
    "if key in numbers:\n",
    "    print(f'found {key} at index {numbers.index(search_key)}')\n",
    "    \n",
    "else:\n",
    "    print(f'{key} not found')"
   ]
  },
  {
   "cell_type": "markdown",
   "id": "88adb72a-8101-4832-ada2-d5a1c7ceee93",
   "metadata": {},
   "source": [
    "5.9 Self Check 3"
   ]
  },
  {
   "cell_type": "code",
   "execution_count": 107,
   "id": "3514d8ff-b203-4dcd-83bc-91fc8db31949",
   "metadata": {},
   "outputs": [],
   "source": [
    "numbers = [67, 12, 46, 43, 13]"
   ]
  },
  {
   "cell_type": "code",
   "execution_count": 108,
   "id": "1255a476-6903-4aed-b588-185b13fc8547",
   "metadata": {},
   "outputs": [
    {
     "data": {
      "text/plain": [
       "3"
      ]
     },
     "execution_count": 108,
     "metadata": {},
     "output_type": "execute_result"
    }
   ],
   "source": [
    "numbers.index(43)"
   ]
  },
  {
   "cell_type": "code",
   "execution_count": 109,
   "id": "5df3059e-edc2-4b9b-9f61-293cd55d24fa",
   "metadata": {},
   "outputs": [
    {
     "name": "stdout",
     "output_type": "stream",
     "text": [
      "44 not found\n"
     ]
    }
   ],
   "source": [
    "if 44 in numbers:\n",
    "    print(f'Found 44 at index: {numbers.index(44)}')\n",
    "else:\n",
    "    print('44 not found')"
   ]
  },
  {
   "cell_type": "markdown",
   "id": "cef78113-dbcc-4eeb-a6da-d547b9f21320",
   "metadata": {},
   "source": [
    "5.10 Other List Method Practice"
   ]
  },
  {
   "cell_type": "code",
   "execution_count": 110,
   "id": "00b042ca-ccb0-40f5-81f1-7402b412b505",
   "metadata": {},
   "outputs": [],
   "source": [
    "color_names = ['orange', 'yellow', 'green']"
   ]
  },
  {
   "cell_type": "markdown",
   "id": "f15f5509-726e-42ef-8f85-5ca03ab1ec12",
   "metadata": {},
   "source": [
    "Inserting an Elements at a Specific List Index"
   ]
  },
  {
   "cell_type": "code",
   "execution_count": 111,
   "id": "9602f478-8f2c-4a18-9484-0d95f8017713",
   "metadata": {},
   "outputs": [],
   "source": [
    "color_names.insert(0, 'red')"
   ]
  },
  {
   "cell_type": "code",
   "execution_count": 112,
   "id": "20ff6d7c-6584-4b93-b909-390637bca32c",
   "metadata": {},
   "outputs": [
    {
     "data": {
      "text/plain": [
       "['red', 'orange', 'yellow', 'green']"
      ]
     },
     "execution_count": 112,
     "metadata": {},
     "output_type": "execute_result"
    }
   ],
   "source": [
    "color_names"
   ]
  },
  {
   "cell_type": "markdown",
   "id": "a9c68e04-549d-4ce2-bcf0-5d0f5c10baf7",
   "metadata": {},
   "source": [
    "Adding an element to the end of a list"
   ]
  },
  {
   "cell_type": "code",
   "execution_count": 113,
   "id": "c285a3da-bfab-4077-ae93-1ca1ec41e4c0",
   "metadata": {},
   "outputs": [],
   "source": [
    "color_names.append('blue')"
   ]
  },
  {
   "cell_type": "code",
   "execution_count": 114,
   "id": "8249a610-7d58-446f-b755-a96908334806",
   "metadata": {},
   "outputs": [
    {
     "data": {
      "text/plain": [
       "['red', 'orange', 'yellow', 'green', 'blue']"
      ]
     },
     "execution_count": 114,
     "metadata": {},
     "output_type": "execute_result"
    }
   ],
   "source": [
    "color_names"
   ]
  },
  {
   "cell_type": "code",
   "execution_count": 115,
   "id": "5bbe5555-f31f-478e-b24e-cd251f2d188f",
   "metadata": {},
   "outputs": [],
   "source": [
    "color_names.extend(['indigo', 'violet'])"
   ]
  },
  {
   "cell_type": "code",
   "execution_count": 116,
   "id": "542be84d-89d6-4766-b838-8d1cf88481f2",
   "metadata": {},
   "outputs": [
    {
     "data": {
      "text/plain": [
       "['red', 'orange', 'yellow', 'green', 'blue', 'indigo', 'violet']"
      ]
     },
     "execution_count": 116,
     "metadata": {},
     "output_type": "execute_result"
    }
   ],
   "source": [
    "color_names"
   ]
  },
  {
   "cell_type": "code",
   "execution_count": 117,
   "id": "e9d6e0e0-e981-422e-9ba2-b761350b3271",
   "metadata": {},
   "outputs": [],
   "source": [
    "sample_list = []"
   ]
  },
  {
   "cell_type": "code",
   "execution_count": 118,
   "id": "946dec04-405d-4396-a7a4-23974e1fec7b",
   "metadata": {},
   "outputs": [],
   "source": [
    "s = 'abc'"
   ]
  },
  {
   "cell_type": "code",
   "execution_count": 119,
   "id": "b676afb9-e605-4dab-967f-7a65406d14b4",
   "metadata": {},
   "outputs": [],
   "source": [
    "sample_list.extend(s)"
   ]
  },
  {
   "cell_type": "code",
   "execution_count": 120,
   "id": "82b16069-7948-49fb-b5fd-6b01fafe16f1",
   "metadata": {},
   "outputs": [
    {
     "data": {
      "text/plain": [
       "['a', 'b', 'c']"
      ]
     },
     "execution_count": 120,
     "metadata": {},
     "output_type": "execute_result"
    }
   ],
   "source": [
    "sample_list"
   ]
  },
  {
   "cell_type": "code",
   "execution_count": 121,
   "id": "c987793b-4a6a-47e4-bb0d-16ced7285ac3",
   "metadata": {},
   "outputs": [],
   "source": [
    "t = (1, 2, 3)"
   ]
  },
  {
   "cell_type": "code",
   "execution_count": 122,
   "id": "1a46518d-2744-4ec7-a955-e4a22cc5bc53",
   "metadata": {},
   "outputs": [],
   "source": [
    "sample_list.extend(t)"
   ]
  },
  {
   "cell_type": "code",
   "execution_count": 123,
   "id": "19703c49-fb0a-4b82-bf4b-c74de9f31401",
   "metadata": {},
   "outputs": [
    {
     "data": {
      "text/plain": [
       "['a', 'b', 'c', 1, 2, 3]"
      ]
     },
     "execution_count": 123,
     "metadata": {},
     "output_type": "execute_result"
    }
   ],
   "source": [
    "sample_list"
   ]
  },
  {
   "cell_type": "code",
   "execution_count": 124,
   "id": "d35cf52b-e94c-45e5-a70e-466a17e073db",
   "metadata": {},
   "outputs": [],
   "source": [
    "sample_list.extend((4, 5, 6)) #note teh extra parentheses"
   ]
  },
  {
   "cell_type": "code",
   "execution_count": 125,
   "id": "6fb0d300-f9cf-4d73-8afb-c18dc7336f29",
   "metadata": {},
   "outputs": [
    {
     "data": {
      "text/plain": [
       "['a', 'b', 'c', 1, 2, 3, 4, 5, 6]"
      ]
     },
     "execution_count": 125,
     "metadata": {},
     "output_type": "execute_result"
    }
   ],
   "source": [
    "sample_list"
   ]
  },
  {
   "cell_type": "markdown",
   "id": "8bf06ff0-bb88-4161-9083-3c1de323ac50",
   "metadata": {},
   "source": [
    "Removing the FIrst Occurence of an Element in a List"
   ]
  },
  {
   "cell_type": "code",
   "execution_count": 126,
   "id": "622231ac-8bcd-4c5f-9c62-0cb6afdb35f9",
   "metadata": {},
   "outputs": [],
   "source": [
    "color_names.remove('green')"
   ]
  },
  {
   "cell_type": "code",
   "execution_count": 127,
   "id": "65c751d7-807d-400d-813b-975ab28b70f8",
   "metadata": {},
   "outputs": [
    {
     "data": {
      "text/plain": [
       "['red', 'orange', 'yellow', 'blue', 'indigo', 'violet']"
      ]
     },
     "execution_count": 127,
     "metadata": {},
     "output_type": "execute_result"
    }
   ],
   "source": [
    "color_names"
   ]
  },
  {
   "cell_type": "markdown",
   "id": "2868c861-544f-46f4-b4fd-090fcdeca3a9",
   "metadata": {},
   "source": [
    "Emptying a List"
   ]
  },
  {
   "cell_type": "code",
   "execution_count": 130,
   "id": "2b3daf4b-8d84-4161-abf0-46c5c9083676",
   "metadata": {},
   "outputs": [],
   "source": [
    "color_names.clear() #equivalent to color_names[:] = []"
   ]
  },
  {
   "cell_type": "code",
   "execution_count": 131,
   "id": "76299ba3-2fdd-4ec2-9fd7-6ba649b644cd",
   "metadata": {},
   "outputs": [
    {
     "data": {
      "text/plain": [
       "[]"
      ]
     },
     "execution_count": 131,
     "metadata": {},
     "output_type": "execute_result"
    }
   ],
   "source": [
    "color_names"
   ]
  },
  {
   "cell_type": "markdown",
   "id": "2ef9cca2-f441-4ea3-90a4-8e8411741c55",
   "metadata": {},
   "source": [
    "Counting Number of Occurrences of an Item"
   ]
  },
  {
   "cell_type": "code",
   "execution_count": 132,
   "id": "10a352da-aacf-445c-8eb7-a661f9f6858d",
   "metadata": {},
   "outputs": [],
   "source": [
    "responses = [1, 2, 5, 4, 3, 5, 2, 1, 3, 3, 1, 4, 3, 3, 3, 2, 3, 3, 2, 2]"
   ]
  },
  {
   "cell_type": "code",
   "execution_count": 134,
   "id": "8c29bf0d-983d-4546-9904-54ff36a777bd",
   "metadata": {},
   "outputs": [
    {
     "name": "stdout",
     "output_type": "stream",
     "text": [
      "1 appears 3 times in responses\n",
      "2 appears 5 times in responses\n",
      "3 appears 8 times in responses\n",
      "4 appears 2 times in responses\n",
      "5 appears 2 times in responses\n"
     ]
    }
   ],
   "source": [
    "for i in range(1, 6):\n",
    "    print(f'{i} appears {responses.count(i)} times in responses')"
   ]
  },
  {
   "cell_type": "markdown",
   "id": "8d0342fb-22dd-4da9-9a19-0f11f79737da",
   "metadata": {},
   "source": [
    "Reversing a LIst's Elemetns"
   ]
  },
  {
   "cell_type": "code",
   "execution_count": 135,
   "id": "f6cdd5c0-927c-4d6c-9762-cce1406b74cd",
   "metadata": {},
   "outputs": [],
   "source": [
    "color_names = ['red', 'orange', 'yellow', 'green', 'blue']"
   ]
  },
  {
   "cell_type": "code",
   "execution_count": 136,
   "id": "754fcdef-b9a1-4746-a2d9-aa655c61d4b1",
   "metadata": {},
   "outputs": [],
   "source": [
    "color_names.reverse()"
   ]
  },
  {
   "cell_type": "code",
   "execution_count": 137,
   "id": "7b5d38ad-8ff5-460e-af8e-4fff9cae7d68",
   "metadata": {},
   "outputs": [
    {
     "data": {
      "text/plain": [
       "['blue', 'green', 'yellow', 'orange', 'red']"
      ]
     },
     "execution_count": 137,
     "metadata": {},
     "output_type": "execute_result"
    }
   ],
   "source": [
    "color_names"
   ]
  },
  {
   "cell_type": "markdown",
   "id": "fe5206f7-3ec8-401a-9e5c-fc49fc09f519",
   "metadata": {},
   "source": [
    "Copying a List"
   ]
  },
  {
   "cell_type": "code",
   "execution_count": 140,
   "id": "72b0d853-025a-474a-ae5f-420a9394a328",
   "metadata": {},
   "outputs": [],
   "source": [
    "copied_list = color_names.copy() #equivalent to copied_list = color_names[:]"
   ]
  },
  {
   "cell_type": "code",
   "execution_count": 141,
   "id": "1151b104-8d4f-4657-9e59-56c1d8e75b7b",
   "metadata": {},
   "outputs": [
    {
     "data": {
      "text/plain": [
       "['blue', 'green', 'yellow', 'orange', 'red']"
      ]
     },
     "execution_count": 141,
     "metadata": {},
     "output_type": "execute_result"
    }
   ],
   "source": [
    "copied_list"
   ]
  },
  {
   "cell_type": "markdown",
   "id": "90898ef3-6a18-4d00-b916-3bce4daa94a4",
   "metadata": {},
   "source": [
    "5.10 Self Check 3"
   ]
  },
  {
   "cell_type": "code",
   "execution_count": 142,
   "id": "b83d9dec-ba21-481f-ae12-a068182e2c14",
   "metadata": {},
   "outputs": [],
   "source": [
    "rainbow = ['green', 'orange', 'violet']"
   ]
  },
  {
   "cell_type": "code",
   "execution_count": 146,
   "id": "38bc669c-1c14-4f9e-bc85-f73f19130f45",
   "metadata": {},
   "outputs": [],
   "source": [
    "rainbow.insert(rainbow.index('violet'), 'red')"
   ]
  },
  {
   "cell_type": "code",
   "execution_count": 147,
   "id": "cb09adda-7628-4bc1-8a12-70785a8c28be",
   "metadata": {},
   "outputs": [
    {
     "data": {
      "text/plain": [
       "['green', 'orange', 'red', 'violet']"
      ]
     },
     "execution_count": 147,
     "metadata": {},
     "output_type": "execute_result"
    }
   ],
   "source": [
    "rainbow"
   ]
  },
  {
   "cell_type": "code",
   "execution_count": 148,
   "id": "e5b4ae89-0728-4d65-959f-018557768228",
   "metadata": {},
   "outputs": [],
   "source": [
    "rainbow.append('yellow')"
   ]
  },
  {
   "cell_type": "code",
   "execution_count": 149,
   "id": "07474544-43ec-4cff-8288-9846bd5e3b54",
   "metadata": {},
   "outputs": [
    {
     "data": {
      "text/plain": [
       "['green', 'orange', 'red', 'violet', 'yellow']"
      ]
     },
     "execution_count": 149,
     "metadata": {},
     "output_type": "execute_result"
    }
   ],
   "source": [
    "rainbow"
   ]
  },
  {
   "cell_type": "code",
   "execution_count": 150,
   "id": "90149f54-ec19-4f2b-a895-64f189448baa",
   "metadata": {},
   "outputs": [],
   "source": [
    "rainbow.reverse()"
   ]
  },
  {
   "cell_type": "code",
   "execution_count": 151,
   "id": "702eca71-8d6c-4574-9f69-7f759e05c212",
   "metadata": {},
   "outputs": [
    {
     "data": {
      "text/plain": [
       "['yellow', 'violet', 'red', 'orange', 'green']"
      ]
     },
     "execution_count": 151,
     "metadata": {},
     "output_type": "execute_result"
    }
   ],
   "source": [
    "rainbow"
   ]
  },
  {
   "cell_type": "code",
   "execution_count": 152,
   "id": "7690a77d-a8ab-415a-b3f2-c07cda47a1c5",
   "metadata": {},
   "outputs": [],
   "source": [
    "rainbow.remove('orange')"
   ]
  },
  {
   "cell_type": "code",
   "execution_count": 153,
   "id": "cb78436d-b081-44f0-b170-b34aecc9a8ac",
   "metadata": {},
   "outputs": [
    {
     "data": {
      "text/plain": [
       "['yellow', 'violet', 'red', 'green']"
      ]
     },
     "execution_count": 153,
     "metadata": {},
     "output_type": "execute_result"
    }
   ],
   "source": [
    "rainbow"
   ]
  },
  {
   "cell_type": "markdown",
   "id": "853dcead-a6e3-44c5-a327-57de87ddfa50",
   "metadata": {},
   "source": [
    "5.11 Simulating Stacks with Lists"
   ]
  },
  {
   "cell_type": "code",
   "execution_count": 154,
   "id": "4d04de2a-3dac-4b22-848b-c82bba236eaf",
   "metadata": {},
   "outputs": [],
   "source": [
    "stack = []"
   ]
  },
  {
   "cell_type": "code",
   "execution_count": 155,
   "id": "8810ee01-0a85-405e-ad8f-8d07f3e46c67",
   "metadata": {},
   "outputs": [],
   "source": [
    "stack.append('red')"
   ]
  },
  {
   "cell_type": "code",
   "execution_count": 156,
   "id": "ac64614d-c0ff-4cef-8d69-c1638a5ce8c2",
   "metadata": {},
   "outputs": [
    {
     "data": {
      "text/plain": [
       "['red']"
      ]
     },
     "execution_count": 156,
     "metadata": {},
     "output_type": "execute_result"
    }
   ],
   "source": [
    "stack"
   ]
  },
  {
   "cell_type": "code",
   "execution_count": 157,
   "id": "6a78b5a2-c845-47a7-907e-519a01540505",
   "metadata": {},
   "outputs": [],
   "source": [
    "stack.append('green')"
   ]
  },
  {
   "cell_type": "code",
   "execution_count": 158,
   "id": "1a7d7aa8-f16e-4e1d-867d-3b2dea3812bb",
   "metadata": {},
   "outputs": [
    {
     "data": {
      "text/plain": [
       "['red', 'green']"
      ]
     },
     "execution_count": 158,
     "metadata": {},
     "output_type": "execute_result"
    }
   ],
   "source": [
    "stack"
   ]
  },
  {
   "cell_type": "code",
   "execution_count": 159,
   "id": "667b3f6d-dc30-4493-89bc-86e81ec7e775",
   "metadata": {},
   "outputs": [
    {
     "data": {
      "text/plain": [
       "'green'"
      ]
     },
     "execution_count": 159,
     "metadata": {},
     "output_type": "execute_result"
    }
   ],
   "source": [
    "stack.pop()"
   ]
  },
  {
   "cell_type": "code",
   "execution_count": 160,
   "id": "822e4f27-fc1d-4f50-9e8e-98fb76a69f05",
   "metadata": {},
   "outputs": [
    {
     "data": {
      "text/plain": [
       "['red']"
      ]
     },
     "execution_count": 160,
     "metadata": {},
     "output_type": "execute_result"
    }
   ],
   "source": [
    "stack"
   ]
  },
  {
   "cell_type": "code",
   "execution_count": 161,
   "id": "95f393b0-6df8-491a-981d-13a2a51cc688",
   "metadata": {},
   "outputs": [
    {
     "data": {
      "text/plain": [
       "'red'"
      ]
     },
     "execution_count": 161,
     "metadata": {},
     "output_type": "execute_result"
    }
   ],
   "source": [
    "stack.pop()"
   ]
  },
  {
   "cell_type": "code",
   "execution_count": 162,
   "id": "2fc75321-68b5-40d5-8663-ddf111a149eb",
   "metadata": {},
   "outputs": [
    {
     "data": {
      "text/plain": [
       "[]"
      ]
     },
     "execution_count": 162,
     "metadata": {},
     "output_type": "execute_result"
    }
   ],
   "source": [
    "stack"
   ]
  },
  {
   "cell_type": "code",
   "execution_count": 163,
   "id": "34934274-63ca-4a8c-afe2-9e1f8baced71",
   "metadata": {},
   "outputs": [
    {
     "ename": "IndexError",
     "evalue": "pop from empty list",
     "output_type": "error",
     "traceback": [
      "\u001b[1;31m---------------------------------------------------------------------------\u001b[0m",
      "\u001b[1;31mIndexError\u001b[0m                                Traceback (most recent call last)",
      "Input \u001b[1;32mIn [163]\u001b[0m, in \u001b[0;36m<cell line: 1>\u001b[1;34m()\u001b[0m\n\u001b[1;32m----> 1\u001b[0m \u001b[43mstack\u001b[49m\u001b[38;5;241;43m.\u001b[39;49m\u001b[43mpop\u001b[49m\u001b[43m(\u001b[49m\u001b[43m)\u001b[49m\n",
      "\u001b[1;31mIndexError\u001b[0m: pop from empty list"
     ]
    }
   ],
   "source": [
    "stack.pop()"
   ]
  },
  {
   "cell_type": "markdown",
   "id": "f1906afd-7d18-4d5c-ae72-bf5b3ec453d2",
   "metadata": {},
   "source": [
    "5.12 List Comprehensions Practice"
   ]
  },
  {
   "cell_type": "code",
   "execution_count": 164,
   "id": "23d3fd05-cb08-4d95-b2fb-397eca421aa4",
   "metadata": {},
   "outputs": [],
   "source": [
    "list1 = []"
   ]
  },
  {
   "cell_type": "code",
   "execution_count": 165,
   "id": "b9085359-a8b8-4e00-8a1d-302293992146",
   "metadata": {},
   "outputs": [],
   "source": [
    "for item in range(1, 6):\n",
    "    list1.append(item)"
   ]
  },
  {
   "cell_type": "code",
   "execution_count": 166,
   "id": "6f5b1e26-64b0-46ac-b9ba-dab3d8e1254c",
   "metadata": {},
   "outputs": [
    {
     "data": {
      "text/plain": [
       "[1, 2, 3, 4, 5]"
      ]
     },
     "execution_count": 166,
     "metadata": {},
     "output_type": "execute_result"
    }
   ],
   "source": [
    "list1"
   ]
  },
  {
   "cell_type": "code",
   "execution_count": 169,
   "id": "72e4064c-8b88-4855-bac6-8ac1d9408303",
   "metadata": {},
   "outputs": [],
   "source": [
    "list2 = [item for item in range(1, 6)] #could also be done as list2 = list(range(1, 6))"
   ]
  },
  {
   "cell_type": "code",
   "execution_count": 168,
   "id": "2ea99aef-b156-415c-8d7b-1aceb72e872c",
   "metadata": {},
   "outputs": [
    {
     "data": {
      "text/plain": [
       "[1, 2, 3, 4, 5]"
      ]
     },
     "execution_count": 168,
     "metadata": {},
     "output_type": "execute_result"
    }
   ],
   "source": [
    "list2"
   ]
  },
  {
   "cell_type": "markdown",
   "id": "5c434328-4854-4bcb-9c62-44f2f651a8bd",
   "metadata": {},
   "source": [
    "Mapping: Performing Operations in a List Comprehension's Expression"
   ]
  },
  {
   "cell_type": "code",
   "execution_count": 170,
   "id": "5658154c-ca88-4d6c-92b2-52b6c66e0109",
   "metadata": {},
   "outputs": [],
   "source": [
    "list3 = [item ** 3 for item in range(1, 6)]"
   ]
  },
  {
   "cell_type": "code",
   "execution_count": 171,
   "id": "73a641b5-480d-443a-be56-e88ac979bd7b",
   "metadata": {},
   "outputs": [
    {
     "data": {
      "text/plain": [
       "[1, 8, 27, 64, 125]"
      ]
     },
     "execution_count": 171,
     "metadata": {},
     "output_type": "execute_result"
    }
   ],
   "source": [
    "list3"
   ]
  },
  {
   "cell_type": "markdown",
   "id": "dd9c72c7-cd13-4f9c-8c21-03aa78e7b3a1",
   "metadata": {},
   "source": [
    "Filtering List Comprehensions with if Clauses"
   ]
  },
  {
   "cell_type": "code",
   "execution_count": 172,
   "id": "39e93be6-7776-48ce-8a61-75092c6b5b1b",
   "metadata": {},
   "outputs": [],
   "source": [
    "list4 = [item for item in range(1, 11) if item % 2 == 0]"
   ]
  },
  {
   "cell_type": "code",
   "execution_count": 173,
   "id": "bf7b94bd-a02a-4885-9166-fa58110f3038",
   "metadata": {},
   "outputs": [
    {
     "data": {
      "text/plain": [
       "[2, 4, 6, 8, 10]"
      ]
     },
     "execution_count": 173,
     "metadata": {},
     "output_type": "execute_result"
    }
   ],
   "source": [
    "list4"
   ]
  },
  {
   "cell_type": "markdown",
   "id": "632287a3-c830-44bd-842f-fca5a98f58e3",
   "metadata": {},
   "source": [
    "List Comprehension That Processes Another List's Elements"
   ]
  },
  {
   "cell_type": "code",
   "execution_count": 174,
   "id": "a93d5762-6ce4-4d28-ad08-e874a8ee51f6",
   "metadata": {},
   "outputs": [],
   "source": [
    "colors = ['red', 'orange', 'yellow', 'green', 'blue']"
   ]
  },
  {
   "cell_type": "code",
   "execution_count": 175,
   "id": "68739efb-0919-4a86-bd5f-ce75cb22ccdf",
   "metadata": {},
   "outputs": [],
   "source": [
    "colors2 = [item.upper() for item in colors]"
   ]
  },
  {
   "cell_type": "code",
   "execution_count": 176,
   "id": "2c8a39dc-3ce0-4f13-9933-59d26d3cc0c1",
   "metadata": {},
   "outputs": [
    {
     "data": {
      "text/plain": [
       "['RED', 'ORANGE', 'YELLOW', 'GREEN', 'BLUE']"
      ]
     },
     "execution_count": 176,
     "metadata": {},
     "output_type": "execute_result"
    }
   ],
   "source": [
    "colors2"
   ]
  },
  {
   "cell_type": "code",
   "execution_count": 177,
   "id": "9dfc7088-4bdf-449b-8d18-77ab0cc40128",
   "metadata": {},
   "outputs": [
    {
     "data": {
      "text/plain": [
       "['red', 'orange', 'yellow', 'green', 'blue']"
      ]
     },
     "execution_count": 177,
     "metadata": {},
     "output_type": "execute_result"
    }
   ],
   "source": [
    "colors"
   ]
  },
  {
   "cell_type": "markdown",
   "id": "243d0b6c-36b3-4332-bcaa-8ebb802e3d3a",
   "metadata": {},
   "source": [
    "5.12 Self Check 3"
   ]
  },
  {
   "cell_type": "code",
   "execution_count": 179,
   "id": "9e2be08b-a3d3-4200-9bb5-7b3d40043a94",
   "metadata": {},
   "outputs": [],
   "source": [
    "cubes = [(x, x ** 3) for x in range(1, 6)]"
   ]
  },
  {
   "cell_type": "code",
   "execution_count": 180,
   "id": "a05abf6a-1ed7-443d-8396-3d59c3330017",
   "metadata": {},
   "outputs": [
    {
     "data": {
      "text/plain": [
       "[(1, 1), (2, 8), (3, 27), (4, 64), (5, 125)]"
      ]
     },
     "execution_count": 180,
     "metadata": {},
     "output_type": "execute_result"
    }
   ],
   "source": [
    "cubes"
   ]
  },
  {
   "cell_type": "markdown",
   "id": "341f7ffb-a092-4450-9208-812a2407b7ef",
   "metadata": {},
   "source": [
    "5.12 Self Check 4"
   ]
  },
  {
   "cell_type": "code",
   "execution_count": 181,
   "id": "f42df643-51f5-4b3c-89d5-ec7db516e2f1",
   "metadata": {},
   "outputs": [],
   "source": [
    "multiples = [x for x in range(3, 30, 3)]"
   ]
  },
  {
   "cell_type": "code",
   "execution_count": 182,
   "id": "dfdffd4c-5e43-4969-b976-6cf3f34713a3",
   "metadata": {},
   "outputs": [
    {
     "data": {
      "text/plain": [
       "[3, 6, 9, 12, 15, 18, 21, 24, 27]"
      ]
     },
     "execution_count": 182,
     "metadata": {},
     "output_type": "execute_result"
    }
   ],
   "source": [
    "multiples"
   ]
  },
  {
   "cell_type": "markdown",
   "id": "04effd4d-1ce9-4140-9297-6257592afdfe",
   "metadata": {},
   "source": [
    "5.14 Filter, Map and Reduce Practice"
   ]
  },
  {
   "cell_type": "code",
   "execution_count": 183,
   "id": "16eb5de9-6b17-4e02-9317-8b3e92c5a648",
   "metadata": {},
   "outputs": [],
   "source": [
    "numbers = [10, 3, 7, 1, 9, 4, 2, 8, 5, 6]"
   ]
  },
  {
   "cell_type": "code",
   "execution_count": 184,
   "id": "d8a78ad8-e4a0-4588-8b2b-4eebb1b4b049",
   "metadata": {},
   "outputs": [],
   "source": [
    "def is_odd(x):\n",
    "    \"\"\"Returns True only if x is odd\"\"\"\n",
    "    return x % 2 != 0"
   ]
  },
  {
   "cell_type": "code",
   "execution_count": 185,
   "id": "aaf555b9-a67e-4dd4-a162-e924bf2b5679",
   "metadata": {},
   "outputs": [
    {
     "data": {
      "text/plain": [
       "[3, 7, 1, 9, 5]"
      ]
     },
     "execution_count": 185,
     "metadata": {},
     "output_type": "execute_result"
    }
   ],
   "source": [
    "list(filter(is_odd, numbers))"
   ]
  },
  {
   "cell_type": "code",
   "execution_count": 187,
   "id": "8490bb30-4e2e-48fe-ad1f-61acbdd905ea",
   "metadata": {},
   "outputs": [
    {
     "data": {
      "text/plain": [
       "[3, 7, 1, 9, 5]"
      ]
     },
     "execution_count": 187,
     "metadata": {},
     "output_type": "execute_result"
    }
   ],
   "source": [
    "[item for item in numbers if is_odd(item)]"
   ]
  },
  {
   "cell_type": "markdown",
   "id": "20f061a0-5a44-497a-8c75-886613e81034",
   "metadata": {},
   "source": [
    "Using a lambda rather than a function"
   ]
  },
  {
   "cell_type": "code",
   "execution_count": 188,
   "id": "6cd6165b-2264-46b8-9e6a-2bbbd0e9cb86",
   "metadata": {},
   "outputs": [
    {
     "data": {
      "text/plain": [
       "[3, 7, 1, 9, 5]"
      ]
     },
     "execution_count": 188,
     "metadata": {},
     "output_type": "execute_result"
    }
   ],
   "source": [
    "list(filter(lambda x: x % 2 != 0, numbers))"
   ]
  },
  {
   "cell_type": "markdown",
   "id": "6b4769de-2b39-4bc3-9051-de5cfe1d849b",
   "metadata": {},
   "source": [
    "Mapping a Sequence's Values to New Values"
   ]
  },
  {
   "cell_type": "code",
   "execution_count": 189,
   "id": "380adca2-a759-4fb9-b5d6-95e8ecd94e5a",
   "metadata": {},
   "outputs": [
    {
     "data": {
      "text/plain": [
       "[10, 3, 7, 1, 9, 4, 2, 8, 5, 6]"
      ]
     },
     "execution_count": 189,
     "metadata": {},
     "output_type": "execute_result"
    }
   ],
   "source": [
    "numbers"
   ]
  },
  {
   "cell_type": "code",
   "execution_count": 191,
   "id": "cd4dae9b-8ec1-44b0-979b-cab38942c9e3",
   "metadata": {},
   "outputs": [
    {
     "data": {
      "text/plain": [
       "[100, 9, 49, 1, 81, 16, 4, 64, 25, 36]"
      ]
     },
     "execution_count": 191,
     "metadata": {},
     "output_type": "execute_result"
    }
   ],
   "source": [
    "list(map(lambda x: x ** 2, numbers)) #equivalent to [item ** 2 for item in numbers]"
   ]
  },
  {
   "cell_type": "markdown",
   "id": "125f9b40-e08d-4eea-8515-bc58b601d4f3",
   "metadata": {},
   "source": [
    "Combining filter and map"
   ]
  },
  {
   "cell_type": "code",
   "execution_count": 193,
   "id": "fe320e11-032b-4551-a9e2-7dde08577b1b",
   "metadata": {},
   "outputs": [
    {
     "data": {
      "text/plain": [
       "[9, 49, 1, 81, 25]"
      ]
     },
     "execution_count": 193,
     "metadata": {},
     "output_type": "execute_result"
    }
   ],
   "source": [
    "list(map(lambda x: x ** 2,\n",
    "         filter(lambda x: x % 2 != 0, numbers)))\n",
    "#equivalent to [x ** 2 for x in numbers if x % 2 != 0]"
   ]
  },
  {
   "cell_type": "markdown",
   "id": "2f1c218c-8c2f-4f64-9fe6-7f54b055c6fd",
   "metadata": {},
   "source": [
    "5.14 Self Check 3"
   ]
  },
  {
   "cell_type": "code",
   "execution_count": 194,
   "id": "fedb4817-4acb-45cf-99b9-fb5b63274e20",
   "metadata": {},
   "outputs": [],
   "source": [
    "numbers = list(range(1, 16))"
   ]
  },
  {
   "cell_type": "code",
   "execution_count": 195,
   "id": "b8d0454c-ee84-4abf-a281-6625245bc61a",
   "metadata": {},
   "outputs": [
    {
     "data": {
      "text/plain": [
       "[1, 2, 3, 4, 5, 6, 7, 8, 9, 10, 11, 12, 13, 14, 15]"
      ]
     },
     "execution_count": 195,
     "metadata": {},
     "output_type": "execute_result"
    }
   ],
   "source": [
    "numbers"
   ]
  },
  {
   "cell_type": "code",
   "execution_count": 196,
   "id": "99d79de5-4d97-426c-bb6e-6938d8215732",
   "metadata": {},
   "outputs": [
    {
     "data": {
      "text/plain": [
       "[2, 4, 6, 8, 10, 12, 14]"
      ]
     },
     "execution_count": 196,
     "metadata": {},
     "output_type": "execute_result"
    }
   ],
   "source": [
    "list(filter(lambda x: x % 2 == 0, numbers))"
   ]
  },
  {
   "cell_type": "code",
   "execution_count": 197,
   "id": "67bd0fe4-0b6c-44bc-8048-ab14cf6377d9",
   "metadata": {},
   "outputs": [
    {
     "data": {
      "text/plain": [
       "[1, 4, 9, 16, 25, 36, 49, 64, 81, 100, 121, 144, 169, 196, 225]"
      ]
     },
     "execution_count": 197,
     "metadata": {},
     "output_type": "execute_result"
    }
   ],
   "source": [
    "list(map(lambda x: x ** 2, numbers))"
   ]
  },
  {
   "cell_type": "code",
   "execution_count": 198,
   "id": "66ec1668-f2f1-4fc5-9b10-5b78ca5833af",
   "metadata": {},
   "outputs": [
    {
     "data": {
      "text/plain": [
       "[4, 16, 36, 64, 100, 144, 196]"
      ]
     },
     "execution_count": 198,
     "metadata": {},
     "output_type": "execute_result"
    }
   ],
   "source": [
    "list(map(lambda x: x**2, filter(lambda x: x % 2 == 0, numbers)))"
   ]
  },
  {
   "cell_type": "markdown",
   "id": "a534c7f0-2fda-4c43-b186-e87640f6d767",
   "metadata": {},
   "source": [
    "5.14 Self Check 4"
   ]
  },
  {
   "cell_type": "code",
   "execution_count": 199,
   "id": "104f6c51-c9f1-45e9-85aa-c069f625076e",
   "metadata": {},
   "outputs": [],
   "source": [
    "fahrenheit = [41, 32, 212]"
   ]
  },
  {
   "cell_type": "code",
   "execution_count": 203,
   "id": "63d76ed8-53c1-46aa-b2f6-991dca9888c4",
   "metadata": {},
   "outputs": [
    {
     "data": {
      "text/plain": [
       "[(41, 5.0), (32, 0.0), (212, 100.0)]"
      ]
     },
     "execution_count": 203,
     "metadata": {},
     "output_type": "execute_result"
    }
   ],
   "source": [
    "list(map(lambda x: (x, (x - 32) * 5 / 9), fahrenheit))"
   ]
  },
  {
   "cell_type": "markdown",
   "id": "bf9b80e4-476a-4932-9036-33df16161d8a",
   "metadata": {},
   "source": [
    "5.15 Other Sequence Processing Functions PRactice"
   ]
  },
  {
   "cell_type": "code",
   "execution_count": 204,
   "id": "c281f5c5-9757-48cf-856e-558c9ed13e73",
   "metadata": {},
   "outputs": [
    {
     "data": {
      "text/plain": [
       "True"
      ]
     },
     "execution_count": 204,
     "metadata": {},
     "output_type": "execute_result"
    }
   ],
   "source": [
    "'Red' < 'orange'"
   ]
  },
  {
   "cell_type": "code",
   "execution_count": 205,
   "id": "5e68e1c1-b990-456a-826d-780ff133b8fe",
   "metadata": {},
   "outputs": [
    {
     "data": {
      "text/plain": [
       "82"
      ]
     },
     "execution_count": 205,
     "metadata": {},
     "output_type": "execute_result"
    }
   ],
   "source": [
    "ord('R')"
   ]
  },
  {
   "cell_type": "code",
   "execution_count": 206,
   "id": "180dd145-7093-4453-9fb5-a3aeeb30658a",
   "metadata": {},
   "outputs": [
    {
     "data": {
      "text/plain": [
       "111"
      ]
     },
     "execution_count": 206,
     "metadata": {},
     "output_type": "execute_result"
    }
   ],
   "source": [
    "ord('o')"
   ]
  },
  {
   "cell_type": "code",
   "execution_count": 207,
   "id": "027e7c18-89be-4471-8aaa-99099869692f",
   "metadata": {},
   "outputs": [],
   "source": [
    "colors = ['Red', 'orange', 'Yellow', 'green', 'Blue']"
   ]
  },
  {
   "cell_type": "code",
   "execution_count": 208,
   "id": "dab58e05-2d94-48b3-9f5a-c851c68a9343",
   "metadata": {},
   "outputs": [
    {
     "data": {
      "text/plain": [
       "'Blue'"
      ]
     },
     "execution_count": 208,
     "metadata": {},
     "output_type": "execute_result"
    }
   ],
   "source": [
    "min(colors, key=lambda s: s.lower())"
   ]
  },
  {
   "cell_type": "code",
   "execution_count": 209,
   "id": "37ea3963-155f-4576-8d6a-7ed1c41e980c",
   "metadata": {},
   "outputs": [
    {
     "data": {
      "text/plain": [
       "'Yellow'"
      ]
     },
     "execution_count": 209,
     "metadata": {},
     "output_type": "execute_result"
    }
   ],
   "source": [
    "max(colors, key=lambda s: s.lower())"
   ]
  },
  {
   "cell_type": "markdown",
   "id": "535a3388-4152-4dfd-8ce1-78456559186a",
   "metadata": {},
   "source": [
    "Iterating Backward Through a Sequence"
   ]
  },
  {
   "cell_type": "code",
   "execution_count": 210,
   "id": "f5af7355-0868-452e-adee-558da0abd185",
   "metadata": {},
   "outputs": [],
   "source": [
    "numbers = [10, 3, 7, 1, 9, 4, 2, 8, 5, 6]"
   ]
  },
  {
   "cell_type": "code",
   "execution_count": 211,
   "id": "0cc57d61-2d6d-43d3-bbf8-fb2de0c7bdcb",
   "metadata": {},
   "outputs": [],
   "source": [
    "reversed_numbers = [item for item in reversed(numbers)]"
   ]
  },
  {
   "cell_type": "code",
   "execution_count": 212,
   "id": "458d16ea-5cbb-4e1d-afc7-535c5950fa52",
   "metadata": {},
   "outputs": [
    {
     "data": {
      "text/plain": [
       "[6, 5, 8, 2, 4, 9, 1, 7, 3, 10]"
      ]
     },
     "execution_count": 212,
     "metadata": {},
     "output_type": "execute_result"
    }
   ],
   "source": [
    "reversed_numbers"
   ]
  },
  {
   "cell_type": "markdown",
   "id": "f2a6925a-3ffb-478d-bf66-a94ab30e62eb",
   "metadata": {},
   "source": [
    "Combining Iterables into TUples of Corresponding Elements"
   ]
  },
  {
   "cell_type": "code",
   "execution_count": 213,
   "id": "2f90f236-1c55-4c8f-9e22-61d624767134",
   "metadata": {},
   "outputs": [],
   "source": [
    "names = ['Bob', 'Sue', 'Amanda']"
   ]
  },
  {
   "cell_type": "code",
   "execution_count": 214,
   "id": "12acf17f-c0d8-4314-9d69-e74052c5b3c9",
   "metadata": {},
   "outputs": [],
   "source": [
    "grade_point_averages = [3.5, 4.0, 3.75]"
   ]
  },
  {
   "cell_type": "code",
   "execution_count": 215,
   "id": "41cf13c9-aa9b-40d2-8892-ad466199b243",
   "metadata": {},
   "outputs": [
    {
     "name": "stdout",
     "output_type": "stream",
     "text": [
      "Name=Bob; GPA=3.5\n",
      "Name=Sue; GPA=4.0\n",
      "Name=Amanda; GPA=3.75\n"
     ]
    }
   ],
   "source": [
    "for name, gpa in zip(names, grade_point_averages):\n",
    "    print(f'Name={name}; GPA={gpa}')"
   ]
  },
  {
   "cell_type": "markdown",
   "id": "cf712804-a21b-494e-9d35-adf5edd90a16",
   "metadata": {},
   "source": [
    "5.15 Self Check 3"
   ]
  },
  {
   "cell_type": "code",
   "execution_count": 216,
   "id": "786d54bb-71d5-498a-9e56-f77d6965c9a4",
   "metadata": {},
   "outputs": [],
   "source": [
    "foods = ['Cookies', 'pizza', 'Grapes', 'apples', 'steak', 'Bacon']"
   ]
  },
  {
   "cell_type": "code",
   "execution_count": 217,
   "id": "a9e26167-2835-420f-a0f1-9fe89954dc8d",
   "metadata": {},
   "outputs": [
    {
     "data": {
      "text/plain": [
       "'Bacon'"
      ]
     },
     "execution_count": 217,
     "metadata": {},
     "output_type": "execute_result"
    }
   ],
   "source": [
    "min(foods)"
   ]
  },
  {
   "cell_type": "code",
   "execution_count": 218,
   "id": "04cb6303-7daf-41be-a8b4-b81b0b5d1f9e",
   "metadata": {},
   "outputs": [
    {
     "data": {
      "text/plain": [
       "'apples'"
      ]
     },
     "execution_count": 218,
     "metadata": {},
     "output_type": "execute_result"
    }
   ],
   "source": [
    "min(foods, key=lambda s: s.lower())"
   ]
  },
  {
   "cell_type": "markdown",
   "id": "4114f216-b397-44ae-aa66-9d1e398f4c9a",
   "metadata": {},
   "source": [
    "5.15 Self Check 4"
   ]
  },
  {
   "cell_type": "code",
   "execution_count": 219,
   "id": "a622be02-a17c-4f13-b126-4d07e0488bbb",
   "metadata": {},
   "outputs": [
    {
     "data": {
      "text/plain": [
       "[11, 22, 33]"
      ]
     },
     "execution_count": 219,
     "metadata": {},
     "output_type": "execute_result"
    }
   ],
   "source": [
    "[(a + b) for a, b in zip([10, 20, 30], [1, 2, 3])]"
   ]
  },
  {
   "cell_type": "markdown",
   "id": "9eec7da2-ed66-4fe2-9119-ee64eb05b704",
   "metadata": {},
   "source": [
    "5.16 Two-Dimensional Lists Practice"
   ]
  },
  {
   "cell_type": "code",
   "execution_count": 221,
   "id": "d6777fab-52df-4f42-bf55-f5f052c5b15d",
   "metadata": {},
   "outputs": [],
   "source": [
    "a = [[77, 68, 86, 73], #first student's grades\n",
    "     [96, 87, 89, 81], #second student's grades\n",
    "     [70, 90, 86, 81]] #third student's grades"
   ]
  },
  {
   "cell_type": "code",
   "execution_count": 222,
   "id": "eb4f126e-5cb1-463b-9195-991683596d6f",
   "metadata": {},
   "outputs": [
    {
     "name": "stdout",
     "output_type": "stream",
     "text": [
      "77 68 86 73 \n",
      "96 87 89 81 \n",
      "70 90 86 81 \n"
     ]
    }
   ],
   "source": [
    "for row in a:\n",
    "    for item in row:\n",
    "        print(item, end=' ')\n",
    "    print()"
   ]
  },
  {
   "cell_type": "markdown",
   "id": "297f1d35-9f1b-47ed-afb7-674908641321",
   "metadata": {},
   "source": [
    "How the nested loops execute"
   ]
  },
  {
   "cell_type": "code",
   "execution_count": 223,
   "id": "d8f83eac-d9f9-4219-864d-b3dbe192aa29",
   "metadata": {},
   "outputs": [
    {
     "name": "stdout",
     "output_type": "stream",
     "text": [
      "a[0][0]=77  a[0][1]=68  a[0][2]=86  a[0][3]=73  \n",
      "a[1][0]=96  a[1][1]=87  a[1][2]=89  a[1][3]=81  \n",
      "a[2][0]=70  a[2][1]=90  a[2][2]=86  a[2][3]=81  \n"
     ]
    }
   ],
   "source": [
    "for i, row in enumerate(a):\n",
    "    for j, item in enumerate(row):\n",
    "        print(f'a[{i}][{j}]={item} ', end=' ')\n",
    "    print()"
   ]
  },
  {
   "cell_type": "markdown",
   "id": "e6ea4b40-28d4-4d17-8bda-c855c6a6ec48",
   "metadata": {},
   "source": [
    "5.16 Self CHeck 2"
   ]
  },
  {
   "cell_type": "code",
   "execution_count": 225,
   "id": "82156f93-95ac-401e-82d5-af3032f89ab4",
   "metadata": {},
   "outputs": [],
   "source": [
    "sales = [[1, 2, 3], [4, 5, 6]]"
   ]
  },
  {
   "cell_type": "code",
   "execution_count": 226,
   "id": "1aee6155-d79e-4cb8-a7a7-d83924ab4f55",
   "metadata": {},
   "outputs": [],
   "source": [
    "for row in range(len(sales)):\n",
    "    for col in range(len(sales[row])):\n",
    "        sales[row][col] = 0"
   ]
  },
  {
   "cell_type": "markdown",
   "id": "2945a571-e910-471f-bc54-e02f9cf95836",
   "metadata": {},
   "source": [
    "5.16 Self Check 3"
   ]
  },
  {
   "cell_type": "code",
   "execution_count": 234,
   "id": "661591c2-a9df-4718-9a02-6cb281d90116",
   "metadata": {},
   "outputs": [],
   "source": [
    "t = [[10, 7, 3], [20, 4, 17]]"
   ]
  },
  {
   "cell_type": "code",
   "execution_count": 235,
   "id": "af718b7e-346e-4442-8983-cb75c271508c",
   "metadata": {},
   "outputs": [],
   "source": [
    "for row in range(len(t)):\n",
    "    for column in range(len(t[row])):\n",
    "        t[row][column] = row + column"
   ]
  },
  {
   "cell_type": "markdown",
   "id": "f6d23a7a-5bbb-4af8-935a-d2dafd87198d",
   "metadata": {},
   "source": [
    "5.16 Self Check 4"
   ]
  },
  {
   "cell_type": "code",
   "execution_count": 244,
   "id": "d23d17ba-58e8-4fd5-8387-b2a236dd8625",
   "metadata": {},
   "outputs": [],
   "source": [
    "t = [[10, 7, 3], [20, 4, 17]]"
   ]
  },
  {
   "cell_type": "code",
   "execution_count": 245,
   "id": "7e9990a2-e574-410e-8b67-1f5c2d14a8f8",
   "metadata": {},
   "outputs": [],
   "source": [
    "total = 0"
   ]
  },
  {
   "cell_type": "code",
   "execution_count": 246,
   "id": "9ef1d7c3-83a4-4a9f-a6a4-a950552edffd",
   "metadata": {},
   "outputs": [],
   "source": [
    "items = 0"
   ]
  },
  {
   "cell_type": "code",
   "execution_count": 247,
   "id": "84f2bb85-72db-4c7d-bd43-44898021de3c",
   "metadata": {},
   "outputs": [],
   "source": [
    "for row in t:\n",
    "    for item in row:\n",
    "        total += item\n",
    "        items += 1"
   ]
  },
  {
   "cell_type": "code",
   "execution_count": 248,
   "id": "6ad363d9-72ed-4590-bdb3-202d5268acad",
   "metadata": {},
   "outputs": [
    {
     "data": {
      "text/plain": [
       "10.166666666666666"
      ]
     },
     "execution_count": 248,
     "metadata": {},
     "output_type": "execute_result"
    }
   ],
   "source": [
    "total / items"
   ]
  },
  {
   "cell_type": "code",
   "execution_count": 249,
   "id": "d8610b81-0bab-4b84-b584-f3d73baada95",
   "metadata": {},
   "outputs": [],
   "source": [
    "total = 0"
   ]
  },
  {
   "cell_type": "code",
   "execution_count": 250,
   "id": "a299db8d-863c-4de9-a961-71625c84dab9",
   "metadata": {},
   "outputs": [],
   "source": [
    "items = 0"
   ]
  },
  {
   "cell_type": "code",
   "execution_count": 251,
   "id": "098a9c4d-ed2f-4708-bbcb-b26e41f1959b",
   "metadata": {},
   "outputs": [],
   "source": [
    "for row in t:\n",
    "    total += sum(row)\n",
    "    items += len(row)"
   ]
  },
  {
   "cell_type": "code",
   "execution_count": 252,
   "id": "23936ac3-5c25-4142-ab27-5923232718c4",
   "metadata": {},
   "outputs": [
    {
     "data": {
      "text/plain": [
       "10.166666666666666"
      ]
     },
     "execution_count": 252,
     "metadata": {},
     "output_type": "execute_result"
    }
   ],
   "source": [
    "total / items"
   ]
  },
  {
   "cell_type": "code",
   "execution_count": 253,
   "id": "0d88f794-da99-45b5-b071-f2589b122f0a",
   "metadata": {},
   "outputs": [
    {
     "name": "stdout",
     "output_type": "stream",
     "text": [
      "Zach Fuller has completed all exercises up to 5.16\n"
     ]
    }
   ],
   "source": [
    "print('Zach Fuller has completed all exercises up to 5.16')"
   ]
  }
 ],
 "metadata": {
  "kernelspec": {
   "display_name": "Python 3 (ipykernel)",
   "language": "python",
   "name": "python3"
  },
  "language_info": {
   "codemirror_mode": {
    "name": "ipython",
    "version": 3
   },
   "file_extension": ".py",
   "mimetype": "text/x-python",
   "name": "python",
   "nbconvert_exporter": "python",
   "pygments_lexer": "ipython3",
   "version": "3.9.12"
  }
 },
 "nbformat": 4,
 "nbformat_minor": 5
}

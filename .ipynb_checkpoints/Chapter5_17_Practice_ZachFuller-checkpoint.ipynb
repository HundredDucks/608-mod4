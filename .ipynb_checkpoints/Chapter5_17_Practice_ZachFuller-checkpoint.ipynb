{
 "cells": [
  {
   "cell_type": "markdown",
   "id": "cb8a572a-d778-4618-a5c4-4fdca80d99bb",
   "metadata": {},
   "source": [
    "5.17 Intro to Data Science: Simulation and Static Visualizations"
   ]
  },
  {
   "cell_type": "code",
   "execution_count": null,
   "id": "e12b17a1-8a92-4afe-97f6-3f552c535ea2",
   "metadata": {},
   "outputs": [],
   "source": []
  }
 ],
 "metadata": {
  "kernelspec": {
   "display_name": "Python 3 (ipykernel)",
   "language": "python",
   "name": "python3"
  },
  "language_info": {
   "codemirror_mode": {
    "name": "ipython",
    "version": 3
   },
   "file_extension": ".py",
   "mimetype": "text/x-python",
   "name": "python",
   "nbconvert_exporter": "python",
   "pygments_lexer": "ipython3",
   "version": "3.9.12"
  }
 },
 "nbformat": 4,
 "nbformat_minor": 5
}

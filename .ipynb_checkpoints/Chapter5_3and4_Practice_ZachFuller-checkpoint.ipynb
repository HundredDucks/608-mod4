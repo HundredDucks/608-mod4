{
 "cells": [
  {
   "cell_type": "markdown",
   "id": "9941e712-c336-4bd2-bcac-627a88efd4d6",
   "metadata": {},
   "source": [
    "5.3 and 5.4/Checkpoint 2 Practice"
   ]
  },
  {
   "cell_type": "markdown",
   "id": "d13850f9-83a7-4bcd-ba82-93f7e7ce6022",
   "metadata": {},
   "source": [
    "Creating Tuples"
   ]
  },
  {
   "cell_type": "code",
   "execution_count": 1,
   "id": "6c2f8b12-4de7-436c-bdef-a5bb283439a8",
   "metadata": {},
   "outputs": [],
   "source": [
    "student_tuple = ()"
   ]
  },
  {
   "cell_type": "code",
   "execution_count": 2,
   "id": "8bec8c06-150d-4c45-a870-71a717edbdf3",
   "metadata": {},
   "outputs": [
    {
     "data": {
      "text/plain": [
       "()"
      ]
     },
     "execution_count": 2,
     "metadata": {},
     "output_type": "execute_result"
    }
   ],
   "source": [
    "student_tuple"
   ]
  },
  {
   "cell_type": "code",
   "execution_count": 3,
   "id": "8132d536-3428-4391-852d-ff2955dc2f7c",
   "metadata": {},
   "outputs": [
    {
     "data": {
      "text/plain": [
       "0"
      ]
     },
     "execution_count": 3,
     "metadata": {},
     "output_type": "execute_result"
    }
   ],
   "source": [
    "len(student_tuple)"
   ]
  },
  {
   "cell_type": "code",
   "execution_count": 4,
   "id": "7911cf61-919f-4087-8e2d-2cba6a2a5b07",
   "metadata": {},
   "outputs": [],
   "source": [
    "student_tuple = 'John', 'Green', 3.3"
   ]
  },
  {
   "cell_type": "code",
   "execution_count": 5,
   "id": "03f6dfd4-6ec9-4e1a-bdd4-eb7825f87dca",
   "metadata": {},
   "outputs": [
    {
     "data": {
      "text/plain": [
       "('John', 'Green', 3.3)"
      ]
     },
     "execution_count": 5,
     "metadata": {},
     "output_type": "execute_result"
    }
   ],
   "source": [
    "student_tuple"
   ]
  },
  {
   "cell_type": "code",
   "execution_count": 6,
   "id": "53681a7b-938a-40b7-8331-c5759ded7216",
   "metadata": {},
   "outputs": [
    {
     "data": {
      "text/plain": [
       "3"
      ]
     },
     "execution_count": 6,
     "metadata": {},
     "output_type": "execute_result"
    }
   ],
   "source": [
    "len(student_tuple)"
   ]
  },
  {
   "cell_type": "code",
   "execution_count": 7,
   "id": "7d003430-3dea-4c2c-b327-7fa591c774bd",
   "metadata": {},
   "outputs": [],
   "source": [
    "another_student_tuple = ('Mary', 'Red', 3.3)"
   ]
  },
  {
   "cell_type": "code",
   "execution_count": 8,
   "id": "fa15cbd0-2c9e-44a0-96c8-c17918932c9a",
   "metadata": {},
   "outputs": [
    {
     "data": {
      "text/plain": [
       "('Mary', 'Red', 3.3)"
      ]
     },
     "execution_count": 8,
     "metadata": {},
     "output_type": "execute_result"
    }
   ],
   "source": [
    "another_student_tuple"
   ]
  },
  {
   "cell_type": "code",
   "execution_count": 9,
   "id": "d7cabfc9-ae65-4e99-afd3-9ba04a6bffe9",
   "metadata": {},
   "outputs": [],
   "source": [
    "a_singleton_tuple = ('red',) #note the comma"
   ]
  },
  {
   "cell_type": "code",
   "execution_count": 10,
   "id": "4e6be8ac-d430-4e2a-a612-2d8325518e91",
   "metadata": {},
   "outputs": [
    {
     "data": {
      "text/plain": [
       "('red',)"
      ]
     },
     "execution_count": 10,
     "metadata": {},
     "output_type": "execute_result"
    }
   ],
   "source": [
    "a_singleton_tuple"
   ]
  },
  {
   "cell_type": "markdown",
   "id": "66fca702-8d86-4387-a844-adcf9c81cf6c",
   "metadata": {},
   "source": [
    "Accessing Tuple Elements"
   ]
  },
  {
   "cell_type": "code",
   "execution_count": 11,
   "id": "d8a1225e-1f3e-472a-9f0d-cdab1f6db211",
   "metadata": {},
   "outputs": [],
   "source": [
    "time_tuple = (9, 16, 1)"
   ]
  },
  {
   "cell_type": "code",
   "execution_count": 13,
   "id": "a05d4dd6-4787-47ad-bf0a-e31a637c6a8b",
   "metadata": {},
   "outputs": [
    {
     "data": {
      "text/plain": [
       "(9, 16, 1)"
      ]
     },
     "execution_count": 13,
     "metadata": {},
     "output_type": "execute_result"
    }
   ],
   "source": [
    "time_tuple"
   ]
  },
  {
   "cell_type": "code",
   "execution_count": 14,
   "id": "d60fe27c-5f47-462b-9996-2d22adbdddab",
   "metadata": {},
   "outputs": [
    {
     "data": {
      "text/plain": [
       "33361"
      ]
     },
     "execution_count": 14,
     "metadata": {},
     "output_type": "execute_result"
    }
   ],
   "source": [
    "time_tuple[0] * 3600 + time_tuple[1] * 60 + time_tuple[2]"
   ]
  },
  {
   "cell_type": "markdown",
   "id": "69ca8620-8484-406b-a307-44bb7cab4cc8",
   "metadata": {},
   "source": [
    "Adding Items to a String or Tuple"
   ]
  },
  {
   "cell_type": "code",
   "execution_count": 15,
   "id": "0732937a-8daa-4d67-a2da-0af016b08178",
   "metadata": {},
   "outputs": [],
   "source": [
    "tuple1 = (10, 20, 30)"
   ]
  },
  {
   "cell_type": "code",
   "execution_count": 16,
   "id": "22da3284-6dfe-41b6-b02a-bb3d5c45f738",
   "metadata": {},
   "outputs": [],
   "source": [
    "tuple2 = tuple1"
   ]
  },
  {
   "cell_type": "code",
   "execution_count": 17,
   "id": "75aad55a-90c0-4a71-b45d-2221c53c651f",
   "metadata": {},
   "outputs": [
    {
     "data": {
      "text/plain": [
       "(10, 20, 30)"
      ]
     },
     "execution_count": 17,
     "metadata": {},
     "output_type": "execute_result"
    }
   ],
   "source": [
    "tuple2"
   ]
  },
  {
   "cell_type": "code",
   "execution_count": 18,
   "id": "3b6ce7c6-ef4e-4892-b425-9d34c8d893a7",
   "metadata": {},
   "outputs": [],
   "source": [
    "tuple1 += (40, 50)"
   ]
  },
  {
   "cell_type": "code",
   "execution_count": 19,
   "id": "5f3a4273-523e-4969-b9ba-638e8b0d53a6",
   "metadata": {},
   "outputs": [
    {
     "data": {
      "text/plain": [
       "(10, 20, 30, 40, 50)"
      ]
     },
     "execution_count": 19,
     "metadata": {},
     "output_type": "execute_result"
    }
   ],
   "source": [
    "tuple1"
   ]
  },
  {
   "cell_type": "code",
   "execution_count": 20,
   "id": "a9067302-7f53-4016-9662-226e35108249",
   "metadata": {},
   "outputs": [
    {
     "data": {
      "text/plain": [
       "(10, 20, 30)"
      ]
     },
     "execution_count": 20,
     "metadata": {},
     "output_type": "execute_result"
    }
   ],
   "source": [
    "tuple2"
   ]
  },
  {
   "cell_type": "markdown",
   "id": "11e0e0a2-1ca5-431d-9c7b-e613a37644fe",
   "metadata": {},
   "source": [
    "Appending Tuples to Lists"
   ]
  },
  {
   "cell_type": "code",
   "execution_count": 22,
   "id": "e7b7832e-bbe0-437c-bc30-8e4b2297c460",
   "metadata": {},
   "outputs": [],
   "source": [
    "numbers = [1, 2, 3, 4, 5]"
   ]
  },
  {
   "cell_type": "code",
   "execution_count": 23,
   "id": "ae0becbc-3f26-471f-9630-3c943b772690",
   "metadata": {},
   "outputs": [],
   "source": [
    "numbers += (6, 7)"
   ]
  },
  {
   "cell_type": "code",
   "execution_count": 24,
   "id": "b668d371-d111-46c5-839d-49115a7843cc",
   "metadata": {},
   "outputs": [
    {
     "data": {
      "text/plain": [
       "[1, 2, 3, 4, 5, 6, 7]"
      ]
     },
     "execution_count": 24,
     "metadata": {},
     "output_type": "execute_result"
    }
   ],
   "source": [
    "numbers"
   ]
  },
  {
   "cell_type": "markdown",
   "id": "2b13bed3-49db-4ef3-bbb9-685a1bc2518d",
   "metadata": {},
   "source": [
    "Tuples May Contain Mutable Objects"
   ]
  },
  {
   "cell_type": "code",
   "execution_count": 25,
   "id": "c8078a78-8612-44aa-a053-09c8c98d8a62",
   "metadata": {},
   "outputs": [],
   "source": [
    "student_tuple = ('Amanda', 'Blue', [98, 75, 87])"
   ]
  },
  {
   "cell_type": "markdown",
   "id": "3ad3f5ff-2336-4255-b16d-40bbace89102",
   "metadata": {},
   "source": [
    "even though the tuple is immutable, its list elements is mutable"
   ]
  },
  {
   "cell_type": "code",
   "execution_count": 26,
   "id": "db6d6848-3a1f-425a-b57b-43ea52f61edc",
   "metadata": {},
   "outputs": [],
   "source": [
    "student_tuple[2][1] = 85"
   ]
  },
  {
   "cell_type": "code",
   "execution_count": 27,
   "id": "dba07047-a04f-449c-a3b2-17251ad9999b",
   "metadata": {},
   "outputs": [
    {
     "data": {
      "text/plain": [
       "('Amanda', 'Blue', [98, 85, 87])"
      ]
     },
     "execution_count": 27,
     "metadata": {},
     "output_type": "execute_result"
    }
   ],
   "source": [
    "student_tuple"
   ]
  },
  {
   "cell_type": "markdown",
   "id": "8a0e447d-b354-4382-8586-b6879f34630c",
   "metadata": {},
   "source": [
    "Above, [2] points to the index 2 position (the list), and the [1] points to the item in the index 1 position in the list.\n",
    "This is double-subscripted."
   ]
  },
  {
   "cell_type": "markdown",
   "id": "239fda01-9544-4b9d-a0f9-8cb93817a1d8",
   "metadata": {},
   "source": [
    "5.3 Self Check 3"
   ]
  },
  {
   "cell_type": "code",
   "execution_count": 28,
   "id": "bc7d399e-5a32-4cfe-9bca-21866ea00524",
   "metadata": {},
   "outputs": [],
   "source": [
    "single = (123.45,)"
   ]
  },
  {
   "cell_type": "code",
   "execution_count": 29,
   "id": "8244deb6-b42a-4fc5-9d62-81bc600bbd74",
   "metadata": {},
   "outputs": [
    {
     "data": {
      "text/plain": [
       "(123.45,)"
      ]
     },
     "execution_count": 29,
     "metadata": {},
     "output_type": "execute_result"
    }
   ],
   "source": [
    "single"
   ]
  },
  {
   "cell_type": "markdown",
   "id": "e8d5451e-4960-4fc5-98b1-9db3d00dd239",
   "metadata": {},
   "source": [
    "5.3 Self Check 4"
   ]
  },
  {
   "cell_type": "code",
   "execution_count": 30,
   "id": "6f09b0ad-bdec-402f-88fe-7ac1e40013ca",
   "metadata": {},
   "outputs": [
    {
     "ename": "TypeError",
     "evalue": "can only concatenate list (not \"tuple\") to list",
     "output_type": "error",
     "traceback": [
      "\u001b[1;31m---------------------------------------------------------------------------\u001b[0m",
      "\u001b[1;31mTypeError\u001b[0m                                 Traceback (most recent call last)",
      "Input \u001b[1;32mIn [30]\u001b[0m, in \u001b[0;36m<cell line: 1>\u001b[1;34m()\u001b[0m\n\u001b[1;32m----> 1\u001b[0m \u001b[43m[\u001b[49m\u001b[38;5;241;43m1\u001b[39;49m\u001b[43m,\u001b[49m\u001b[43m \u001b[49m\u001b[38;5;241;43m2\u001b[39;49m\u001b[43m,\u001b[49m\u001b[43m \u001b[49m\u001b[38;5;241;43m3\u001b[39;49m\u001b[43m]\u001b[49m\u001b[43m \u001b[49m\u001b[38;5;241;43m+\u001b[39;49m\u001b[43m \u001b[49m\u001b[43m(\u001b[49m\u001b[38;5;241;43m4\u001b[39;49m\u001b[43m,\u001b[49m\u001b[43m \u001b[49m\u001b[38;5;241;43m5\u001b[39;49m\u001b[43m,\u001b[49m\u001b[43m \u001b[49m\u001b[38;5;241;43m6\u001b[39;49m\u001b[43m)\u001b[49m\n",
      "\u001b[1;31mTypeError\u001b[0m: can only concatenate list (not \"tuple\") to list"
     ]
    }
   ],
   "source": [
    "[1, 2, 3] + (4, 5, 6)"
   ]
  },
  {
   "cell_type": "markdown",
   "id": "2cf543aa-8075-4a27-b686-8e80bf9f76b7",
   "metadata": {},
   "source": [
    "Unpacking Sequences"
   ]
  },
  {
   "cell_type": "code",
   "execution_count": 31,
   "id": "1df19466-6969-496c-9bb2-886ba38c9490",
   "metadata": {},
   "outputs": [],
   "source": [
    "student_tuple = ('Amanda', [98, 85, 87])"
   ]
  },
  {
   "cell_type": "code",
   "execution_count": 32,
   "id": "530e5cb1-2880-4209-8d2e-fc4cf54ccac8",
   "metadata": {},
   "outputs": [],
   "source": [
    "first_name, grades = student_tuple"
   ]
  },
  {
   "cell_type": "code",
   "execution_count": 33,
   "id": "a93c8d0e-cea0-4ba6-b52b-88a86af5e141",
   "metadata": {},
   "outputs": [
    {
     "data": {
      "text/plain": [
       "'Amanda'"
      ]
     },
     "execution_count": 33,
     "metadata": {},
     "output_type": "execute_result"
    }
   ],
   "source": [
    "first_name"
   ]
  },
  {
   "cell_type": "code",
   "execution_count": 34,
   "id": "e3ff3721-8add-4f67-bcc5-8cf64c50c292",
   "metadata": {},
   "outputs": [
    {
     "data": {
      "text/plain": [
       "[98, 85, 87]"
      ]
     },
     "execution_count": 34,
     "metadata": {},
     "output_type": "execute_result"
    }
   ],
   "source": [
    "grades"
   ]
  },
  {
   "cell_type": "code",
   "execution_count": 35,
   "id": "6d86f845-fb91-468b-bf2f-926f06630690",
   "metadata": {},
   "outputs": [],
   "source": [
    "first, second = 'hi'"
   ]
  },
  {
   "cell_type": "code",
   "execution_count": 36,
   "id": "e9ee732c-1b8f-491f-8fc2-27ea4d44c825",
   "metadata": {},
   "outputs": [
    {
     "name": "stdout",
     "output_type": "stream",
     "text": [
      "h i\n"
     ]
    }
   ],
   "source": [
    "print(f'{first} {second}')"
   ]
  },
  {
   "cell_type": "code",
   "execution_count": 37,
   "id": "8269da78-e4d3-4ba1-9c7a-7fa097ee3425",
   "metadata": {
    "jupyter": {
     "source_hidden": true
    },
    "tags": []
   },
   "outputs": [],
   "source": [
    "number1, number2, number3 = [2, 3, 5]"
   ]
  },
  {
   "cell_type": "code",
   "execution_count": 38,
   "id": "e4b762d2-974b-47f7-a240-7b4ed68b19c7",
   "metadata": {},
   "outputs": [
    {
     "name": "stdout",
     "output_type": "stream",
     "text": [
      "2  3  5\n"
     ]
    }
   ],
   "source": [
    "print(f'{number1}  {number2}  {number3}')"
   ]
  },
  {
   "cell_type": "code",
   "execution_count": 39,
   "id": "d6527476-01a3-4236-87ca-b148a9cc3e8f",
   "metadata": {},
   "outputs": [],
   "source": [
    "number1, number2, number3 = range(10, 40, 10)"
   ]
  },
  {
   "cell_type": "code",
   "execution_count": 40,
   "id": "01651c68-60e2-45b8-8c39-6a68a5d10cc4",
   "metadata": {},
   "outputs": [
    {
     "name": "stdout",
     "output_type": "stream",
     "text": [
      "10  20   30\n"
     ]
    }
   ],
   "source": [
    "print(f'{number1}  {number2}   {number3}')"
   ]
  },
  {
   "cell_type": "markdown",
   "id": "9af7036d-1b5f-4888-a9f5-5329145dd16d",
   "metadata": {},
   "source": [
    "Swapping Values Via Packing and Unpacking"
   ]
  },
  {
   "cell_type": "code",
   "execution_count": 46,
   "id": "f2c30597-ea77-422a-b12e-88f1756123ae",
   "metadata": {},
   "outputs": [],
   "source": [
    "number1 = 99"
   ]
  },
  {
   "cell_type": "code",
   "execution_count": 47,
   "id": "162c8483-32ac-42a3-ae2c-220c8c5d2081",
   "metadata": {},
   "outputs": [],
   "source": [
    "number2 = 22"
   ]
  },
  {
   "cell_type": "code",
   "execution_count": 48,
   "id": "5be00522-1d23-437b-aa87-decf42a42fc4",
   "metadata": {},
   "outputs": [],
   "source": [
    "number1, number2 = (number2, number1)"
   ]
  },
  {
   "cell_type": "code",
   "execution_count": 49,
   "id": "7054d108-a5ab-4721-a940-db3fe8d9a403",
   "metadata": {},
   "outputs": [
    {
     "name": "stdout",
     "output_type": "stream",
     "text": [
      "number1 = 22; number2 = 99\n"
     ]
    }
   ],
   "source": [
    "print(f'number1 = {number1}; number2 = {number2}')"
   ]
  },
  {
   "cell_type": "markdown",
   "id": "d48977e5-4dca-4dd1-af98-c5f3f04f2960",
   "metadata": {},
   "source": [
    "Accessing Indices and Values Safely with Built-in Function enumerate"
   ]
  },
  {
   "cell_type": "code",
   "execution_count": 50,
   "id": "47c89418-54a3-41a5-a988-8e4e517609e3",
   "metadata": {},
   "outputs": [],
   "source": [
    "colors = ['red', 'orange', 'yellow']"
   ]
  },
  {
   "cell_type": "code",
   "execution_count": 51,
   "id": "cba2f879-df14-45a1-8948-4de587d2e8e5",
   "metadata": {},
   "outputs": [
    {
     "data": {
      "text/plain": [
       "[(0, 'red'), (1, 'orange'), (2, 'yellow')]"
      ]
     },
     "execution_count": 51,
     "metadata": {},
     "output_type": "execute_result"
    }
   ],
   "source": [
    "list(enumerate(colors))"
   ]
  },
  {
   "cell_type": "code",
   "execution_count": 52,
   "id": "9b37f82c-5aa7-42d8-9c11-b39033c2cbf2",
   "metadata": {},
   "outputs": [
    {
     "data": {
      "text/plain": [
       "((0, 'red'), (1, 'orange'), (2, 'yellow'))"
      ]
     },
     "execution_count": 52,
     "metadata": {},
     "output_type": "execute_result"
    }
   ],
   "source": [
    "tuple(enumerate(colors))"
   ]
  },
  {
   "cell_type": "code",
   "execution_count": 53,
   "id": "0eaae4e6-1bd8-437c-af9c-d596922a18ae",
   "metadata": {},
   "outputs": [
    {
     "name": "stdout",
     "output_type": "stream",
     "text": [
      "0: red\n",
      "1: orange\n",
      "2: yellow\n"
     ]
    }
   ],
   "source": [
    "for index, value in enumerate(colors):\n",
    "    print(f'{index}: {value}')"
   ]
  },
  {
   "cell_type": "markdown",
   "id": "cb509d51-ffa4-4530-ad90-9e90b730bf6f",
   "metadata": {},
   "source": [
    "5.4 Self Check 3"
   ]
  },
  {
   "cell_type": "code",
   "execution_count": 1,
   "id": "79b58060-9f97-4739-97fd-f57e000b6e23",
   "metadata": {},
   "outputs": [],
   "source": [
    "high_low = ('Monday', 87, 65)"
   ]
  },
  {
   "cell_type": "code",
   "execution_count": 2,
   "id": "5e52ce5f-69ee-459a-94ac-52dd9d4e14ae",
   "metadata": {},
   "outputs": [
    {
     "data": {
      "text/plain": [
       "('Monday', 87, 65)"
      ]
     },
     "execution_count": 2,
     "metadata": {},
     "output_type": "execute_result"
    }
   ],
   "source": [
    "high_low"
   ]
  },
  {
   "cell_type": "code",
   "execution_count": 3,
   "id": "7ad3b7a6-6cb3-45cd-8ea5-0e54715ff9aa",
   "metadata": {},
   "outputs": [
    {
     "name": "stdout",
     "output_type": "stream",
     "text": [
      "Monday: High=87, Low=65\n"
     ]
    }
   ],
   "source": [
    "print(f'{high_low[0]}: High={high_low[1]}, Low={high_low[2]}')"
   ]
  },
  {
   "cell_type": "code",
   "execution_count": 4,
   "id": "ddb90d40-20b4-4991-98a5-364b655b5573",
   "metadata": {},
   "outputs": [
    {
     "ename": "ValueError",
     "evalue": "too many values to unpack (expected 2)",
     "output_type": "error",
     "traceback": [
      "\u001b[1;31m---------------------------------------------------------------------------\u001b[0m",
      "\u001b[1;31mValueError\u001b[0m                                Traceback (most recent call last)",
      "Input \u001b[1;32mIn [4]\u001b[0m, in \u001b[0;36m<cell line: 1>\u001b[1;34m()\u001b[0m\n\u001b[1;32m----> 1\u001b[0m day, high \u001b[38;5;241m=\u001b[39m high_low\n",
      "\u001b[1;31mValueError\u001b[0m: too many values to unpack (expected 2)"
     ]
    }
   ],
   "source": [
    "day, high = high_low"
   ]
  },
  {
   "cell_type": "markdown",
   "id": "3dadb3a3-b4e1-4cfd-9c7b-40174bd0fa61",
   "metadata": {},
   "source": [
    "5.4 Self Check 4"
   ]
  },
  {
   "cell_type": "code",
   "execution_count": 5,
   "id": "b33a2942-8c01-4635-823e-6924cbe78f3c",
   "metadata": {},
   "outputs": [],
   "source": [
    "names = ['Amanda', 'Sam', 'David']"
   ]
  },
  {
   "cell_type": "code",
   "execution_count": 6,
   "id": "8e7e9a6f-cad4-491e-8fc6-77997655ca65",
   "metadata": {},
   "outputs": [
    {
     "name": "stdout",
     "output_type": "stream",
     "text": [
      "0: Amanda\n",
      "1: Sam\n",
      "2: David\n"
     ]
    }
   ],
   "source": [
    "for i, name in enumerate(names):\n",
    "    print(f'{i}: {name}')"
   ]
  },
  {
   "cell_type": "code",
   "execution_count": 7,
   "id": "7a4ceb36-d983-40dd-8ba6-2706a8acd2f3",
   "metadata": {},
   "outputs": [
    {
     "name": "stdout",
     "output_type": "stream",
     "text": [
      "Zach Fuller completed the second part of Module 4s project\n"
     ]
    }
   ],
   "source": [
    "print('Zach Fuller completed the second part of Module 4s project')"
   ]
  }
 ],
 "metadata": {
  "kernelspec": {
   "display_name": "Python 3 (ipykernel)",
   "language": "python",
   "name": "python3"
  },
  "language_info": {
   "codemirror_mode": {
    "name": "ipython",
    "version": 3
   },
   "file_extension": ".py",
   "mimetype": "text/x-python",
   "name": "python",
   "nbconvert_exporter": "python",
   "pygments_lexer": "ipython3",
   "version": "3.9.12"
  }
 },
 "nbformat": 4,
 "nbformat_minor": 5
}

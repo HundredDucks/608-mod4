{
 "cells": [
  {
   "cell_type": "markdown",
   "id": "7c475ca4-026f-4646-9864-c40ec477f662",
   "metadata": {},
   "source": [
    "6.3 Sets"
   ]
  },
  {
   "cell_type": "code",
   "execution_count": 1,
   "id": "6a032642-0071-4cb7-8e9c-925e69b906b4",
   "metadata": {},
   "outputs": [],
   "source": [
    "colors = {'red', 'orange', 'yellow', 'green', 'red', 'blue'}"
   ]
  },
  {
   "cell_type": "code",
   "execution_count": 2,
   "id": "13929d4d-133b-453e-83b3-30ad7afd9cfe",
   "metadata": {},
   "outputs": [
    {
     "data": {
      "text/plain": [
       "{'blue', 'green', 'orange', 'red', 'yellow'}"
      ]
     },
     "execution_count": 2,
     "metadata": {},
     "output_type": "execute_result"
    }
   ],
   "source": [
    "colors"
   ]
  },
  {
   "cell_type": "code",
   "execution_count": 3,
   "id": "cfc138ae-106d-4920-b4c6-db5edfe41886",
   "metadata": {},
   "outputs": [
    {
     "data": {
      "text/plain": [
       "5"
      ]
     },
     "execution_count": 3,
     "metadata": {},
     "output_type": "execute_result"
    }
   ],
   "source": [
    "len(colors)"
   ]
  },
  {
   "cell_type": "code",
   "execution_count": 4,
   "id": "9ed69a6c-2f94-4e10-b05a-e576d10625eb",
   "metadata": {},
   "outputs": [
    {
     "data": {
      "text/plain": [
       "True"
      ]
     },
     "execution_count": 4,
     "metadata": {},
     "output_type": "execute_result"
    }
   ],
   "source": [
    "'red' in colors"
   ]
  },
  {
   "cell_type": "code",
   "execution_count": 5,
   "id": "237395cb-06d6-4c56-ae06-ada93f27e1a0",
   "metadata": {},
   "outputs": [
    {
     "data": {
      "text/plain": [
       "False"
      ]
     },
     "execution_count": 5,
     "metadata": {},
     "output_type": "execute_result"
    }
   ],
   "source": [
    "'purple' in colors"
   ]
  },
  {
   "cell_type": "code",
   "execution_count": 6,
   "id": "859bb42f-2152-497f-99e5-ad95b7ea085a",
   "metadata": {},
   "outputs": [
    {
     "data": {
      "text/plain": [
       "True"
      ]
     },
     "execution_count": 6,
     "metadata": {},
     "output_type": "execute_result"
    }
   ],
   "source": [
    "'purple' not in colors"
   ]
  },
  {
   "cell_type": "code",
   "execution_count": 7,
   "id": "ac926662-c9df-4607-a1c1-a147f98e735e",
   "metadata": {},
   "outputs": [
    {
     "name": "stdout",
     "output_type": "stream",
     "text": [
      "RED ORANGE YELLOW BLUE GREEN "
     ]
    }
   ],
   "source": [
    "for color in colors:\n",
    "    print(color.upper(), end=' ')"
   ]
  },
  {
   "cell_type": "code",
   "execution_count": 8,
   "id": "5e105cff-4dc6-4a00-959a-b6f161402429",
   "metadata": {},
   "outputs": [],
   "source": [
    "numbers = list(range(10)) + list(range(5))"
   ]
  },
  {
   "cell_type": "code",
   "execution_count": 9,
   "id": "479a7811-a719-4209-b4f5-34e2fd0be556",
   "metadata": {},
   "outputs": [
    {
     "data": {
      "text/plain": [
       "[0, 1, 2, 3, 4, 5, 6, 7, 8, 9, 0, 1, 2, 3, 4]"
      ]
     },
     "execution_count": 9,
     "metadata": {},
     "output_type": "execute_result"
    }
   ],
   "source": [
    "numbers"
   ]
  },
  {
   "cell_type": "code",
   "execution_count": 10,
   "id": "5932a5f5-2403-43ca-b9e6-849c5bc89566",
   "metadata": {},
   "outputs": [
    {
     "data": {
      "text/plain": [
       "{0, 1, 2, 3, 4, 5, 6, 7, 8, 9}"
      ]
     },
     "execution_count": 10,
     "metadata": {},
     "output_type": "execute_result"
    }
   ],
   "source": [
    "set(numbers)"
   ]
  },
  {
   "cell_type": "code",
   "execution_count": 11,
   "id": "c50a2359-3316-4d63-963c-ac4e1653a1ef",
   "metadata": {},
   "outputs": [
    {
     "data": {
      "text/plain": [
       "set()"
      ]
     },
     "execution_count": 11,
     "metadata": {},
     "output_type": "execute_result"
    }
   ],
   "source": [
    "set()"
   ]
  },
  {
   "cell_type": "markdown",
   "id": "659fbc74-02c1-4a02-b342-8ffd49217ca5",
   "metadata": {},
   "source": [
    "6.3 Self Check 3"
   ]
  },
  {
   "cell_type": "code",
   "execution_count": 12,
   "id": "1b8f9eaa-d51d-4fed-9133-45e528df7280",
   "metadata": {},
   "outputs": [],
   "source": [
    "text = 'to be or not to be that is the question'"
   ]
  },
  {
   "cell_type": "code",
   "execution_count": 13,
   "id": "7348a86c-3c01-4158-aee0-d759fa384573",
   "metadata": {},
   "outputs": [],
   "source": [
    "unique_words = set(text.split())"
   ]
  },
  {
   "cell_type": "code",
   "execution_count": 14,
   "id": "d503dbd2-38a0-485b-8f8f-ba0b841d5c0d",
   "metadata": {},
   "outputs": [
    {
     "name": "stdout",
     "output_type": "stream",
     "text": [
      "be is not or question that the to "
     ]
    }
   ],
   "source": [
    "for word in sorted(unique_words):\n",
    "    print(word, end=' ')"
   ]
  },
  {
   "cell_type": "markdown",
   "id": "da8deefd-cb3b-42b0-99da-52e01a9a9f8a",
   "metadata": {},
   "source": [
    "6.3.1 Comparing Sets"
   ]
  },
  {
   "cell_type": "code",
   "execution_count": 15,
   "id": "1b3fcacb-a7fd-4711-b87f-0ea6df92520c",
   "metadata": {},
   "outputs": [
    {
     "data": {
      "text/plain": [
       "True"
      ]
     },
     "execution_count": 15,
     "metadata": {},
     "output_type": "execute_result"
    }
   ],
   "source": [
    "{1, 3, 5} == {3, 5, 1}"
   ]
  },
  {
   "cell_type": "code",
   "execution_count": 16,
   "id": "992f0430-8639-457e-98af-ff6f33f075fb",
   "metadata": {},
   "outputs": [
    {
     "data": {
      "text/plain": [
       "False"
      ]
     },
     "execution_count": 16,
     "metadata": {},
     "output_type": "execute_result"
    }
   ],
   "source": [
    "{1, 3, 5} != {3, 5, 1}"
   ]
  },
  {
   "cell_type": "code",
   "execution_count": 19,
   "id": "0e5af4db-b04f-422f-a18a-4c95f4d78e37",
   "metadata": {},
   "outputs": [
    {
     "data": {
      "text/plain": [
       "False"
      ]
     },
     "execution_count": 19,
     "metadata": {},
     "output_type": "execute_result"
    }
   ],
   "source": [
    "{1, 3, 5} > {3, 5, 1}"
   ]
  },
  {
   "cell_type": "code",
   "execution_count": 22,
   "id": "97a0fce0-fc4c-44eb-91ce-0ae3f2441eb1",
   "metadata": {},
   "outputs": [
    {
     "data": {
      "text/plain": [
       "True"
      ]
     },
     "execution_count": 22,
     "metadata": {},
     "output_type": "execute_result"
    }
   ],
   "source": [
    "{1, 3, 5} < {7, 3, 5, 1}"
   ]
  },
  {
   "cell_type": "code",
   "execution_count": 23,
   "id": "4dacadf5-4900-40b5-8b30-533dc7b8f48b",
   "metadata": {},
   "outputs": [
    {
     "data": {
      "text/plain": [
       "True"
      ]
     },
     "execution_count": 23,
     "metadata": {},
     "output_type": "execute_result"
    }
   ],
   "source": [
    "{1, 3, 5} <= {3, 5, 1}"
   ]
  },
  {
   "cell_type": "code",
   "execution_count": 24,
   "id": "8110f679-d489-429a-8eae-e016c78aa6ac",
   "metadata": {},
   "outputs": [
    {
     "data": {
      "text/plain": [
       "True"
      ]
     },
     "execution_count": 24,
     "metadata": {},
     "output_type": "execute_result"
    }
   ],
   "source": [
    "{1, 3} <= {3, 5, 1}"
   ]
  },
  {
   "cell_type": "code",
   "execution_count": 25,
   "id": "a29108cf-0a76-47af-8995-96ba4f9de697",
   "metadata": {},
   "outputs": [
    {
     "data": {
      "text/plain": [
       "True"
      ]
     },
     "execution_count": 25,
     "metadata": {},
     "output_type": "execute_result"
    }
   ],
   "source": [
    "{1, 3, 5}.issubset({3, 5, 1})"
   ]
  },
  {
   "cell_type": "code",
   "execution_count": 26,
   "id": "c4db50cd-cdd8-428a-9097-961708026312",
   "metadata": {},
   "outputs": [
    {
     "data": {
      "text/plain": [
       "False"
      ]
     },
     "execution_count": 26,
     "metadata": {},
     "output_type": "execute_result"
    }
   ],
   "source": [
    "{1, 2}.issubset({3, 5, 1})"
   ]
  },
  {
   "cell_type": "code",
   "execution_count": 27,
   "id": "002f94d1-3fd4-45a7-99ab-f69c0dc3dff7",
   "metadata": {},
   "outputs": [
    {
     "data": {
      "text/plain": [
       "False"
      ]
     },
     "execution_count": 27,
     "metadata": {},
     "output_type": "execute_result"
    }
   ],
   "source": [
    "{1, 3, 5} > {3, 5, 1}"
   ]
  },
  {
   "cell_type": "code",
   "execution_count": 28,
   "id": "9849529d-aeba-4d4b-a75c-3448f2b8cf91",
   "metadata": {},
   "outputs": [
    {
     "data": {
      "text/plain": [
       "True"
      ]
     },
     "execution_count": 28,
     "metadata": {},
     "output_type": "execute_result"
    }
   ],
   "source": [
    "{1, 3, 5, 7} > {3, 5, 1}"
   ]
  },
  {
   "cell_type": "code",
   "execution_count": 29,
   "id": "baa75f3b-5894-4888-86bb-e0f46973978c",
   "metadata": {},
   "outputs": [
    {
     "data": {
      "text/plain": [
       "True"
      ]
     },
     "execution_count": 29,
     "metadata": {},
     "output_type": "execute_result"
    }
   ],
   "source": [
    "{1, 3, 5} >= {3, 5, 1}"
   ]
  },
  {
   "cell_type": "code",
   "execution_count": 30,
   "id": "966a8b7d-2533-426c-a36c-c15cb9faf277",
   "metadata": {},
   "outputs": [
    {
     "data": {
      "text/plain": [
       "True"
      ]
     },
     "execution_count": 30,
     "metadata": {},
     "output_type": "execute_result"
    }
   ],
   "source": [
    "{1, 3, 5} >= {3, 1}"
   ]
  },
  {
   "cell_type": "code",
   "execution_count": 31,
   "id": "797176ab-a759-46d9-ad96-fd169956cc7d",
   "metadata": {},
   "outputs": [
    {
     "data": {
      "text/plain": [
       "False"
      ]
     },
     "execution_count": 31,
     "metadata": {},
     "output_type": "execute_result"
    }
   ],
   "source": [
    "{1, 3} >= {3, 1, 7}"
   ]
  },
  {
   "cell_type": "code",
   "execution_count": 33,
   "id": "3ca58953-facc-4989-b1a9-3f2b59830fdf",
   "metadata": {},
   "outputs": [
    {
     "data": {
      "text/plain": [
       "True"
      ]
     },
     "execution_count": 33,
     "metadata": {},
     "output_type": "execute_result"
    }
   ],
   "source": [
    "{1, 3, 5}.issuperset({3, 5, 1})"
   ]
  },
  {
   "cell_type": "code",
   "execution_count": 34,
   "id": "745b91f2-da5c-4411-af80-5c423ff2588c",
   "metadata": {},
   "outputs": [
    {
     "data": {
      "text/plain": [
       "False"
      ]
     },
     "execution_count": 34,
     "metadata": {},
     "output_type": "execute_result"
    }
   ],
   "source": [
    "{1, 3, 5}.issuperset({3, 2})"
   ]
  },
  {
   "cell_type": "markdown",
   "id": "08133ac0-46f6-49d6-a727-09e8f87c64e8",
   "metadata": {},
   "source": [
    "6.3.1 Self Check 3"
   ]
  },
  {
   "cell_type": "code",
   "execution_count": 35,
   "id": "aaad9e36-a22b-42cf-9801-ca1f99db1dce",
   "metadata": {},
   "outputs": [
    {
     "data": {
      "text/plain": [
       "True"
      ]
     },
     "execution_count": 35,
     "metadata": {},
     "output_type": "execute_result"
    }
   ],
   "source": [
    "set('abc def ghi jkl mno').issuperset('hi mom')"
   ]
  },
  {
   "cell_type": "markdown",
   "id": "5f6ba237-bfe3-4494-9a12-ca731452e227",
   "metadata": {},
   "source": [
    "6.3.2 Mathematical Set Operations"
   ]
  },
  {
   "cell_type": "code",
   "execution_count": 36,
   "id": "0e99268d-08d2-4e16-89e3-08275dd394b2",
   "metadata": {},
   "outputs": [
    {
     "data": {
      "text/plain": [
       "{1, 2, 3, 4, 5}"
      ]
     },
     "execution_count": 36,
     "metadata": {},
     "output_type": "execute_result"
    }
   ],
   "source": [
    "{1, 3, 5} | {2, 3, 4}"
   ]
  },
  {
   "cell_type": "code",
   "execution_count": 37,
   "id": "a4a0a396-e4b7-48d2-8b3c-5f02cd488495",
   "metadata": {},
   "outputs": [
    {
     "data": {
      "text/plain": [
       "{1, 3, 5, 20, 40}"
      ]
     },
     "execution_count": 37,
     "metadata": {},
     "output_type": "execute_result"
    }
   ],
   "source": [
    "{1, 3, 5}.union([20, 20, 3, 40, 40])"
   ]
  },
  {
   "cell_type": "code",
   "execution_count": 38,
   "id": "d87b40c3-869c-478c-af00-c456e41acc47",
   "metadata": {},
   "outputs": [
    {
     "data": {
      "text/plain": [
       "{3}"
      ]
     },
     "execution_count": 38,
     "metadata": {},
     "output_type": "execute_result"
    }
   ],
   "source": [
    "{1, 3, 5} & {2, 3, 4}"
   ]
  },
  {
   "cell_type": "code",
   "execution_count": 39,
   "id": "ced61666-dfb1-47d2-8a33-4a8ae341766f",
   "metadata": {},
   "outputs": [
    {
     "data": {
      "text/plain": [
       "{1, 3}"
      ]
     },
     "execution_count": 39,
     "metadata": {},
     "output_type": "execute_result"
    }
   ],
   "source": [
    "{1, 3, 5}.intersection([1, 2, 2, 3, 3, 4, 4])"
   ]
  },
  {
   "cell_type": "code",
   "execution_count": 40,
   "id": "277d3ea9-cc0d-4989-bd1f-71105b8afd4a",
   "metadata": {},
   "outputs": [
    {
     "data": {
      "text/plain": [
       "{1, 5}"
      ]
     },
     "execution_count": 40,
     "metadata": {},
     "output_type": "execute_result"
    }
   ],
   "source": [
    "{1, 3, 5} - {2, 3, 4}"
   ]
  },
  {
   "cell_type": "code",
   "execution_count": 41,
   "id": "974dd6be-1322-4fa8-ab4d-92d3632b51ed",
   "metadata": {},
   "outputs": [
    {
     "data": {
      "text/plain": [
       "{1, 5, 7}"
      ]
     },
     "execution_count": 41,
     "metadata": {},
     "output_type": "execute_result"
    }
   ],
   "source": [
    "{1, 3, 5, 7}.difference([2, 2, 3, 3, 4, 4])"
   ]
  },
  {
   "cell_type": "code",
   "execution_count": 42,
   "id": "2e77fdb7-9e6b-43e9-a974-453c2e35b54b",
   "metadata": {},
   "outputs": [
    {
     "data": {
      "text/plain": [
       "{1, 2, 4, 5}"
      ]
     },
     "execution_count": 42,
     "metadata": {},
     "output_type": "execute_result"
    }
   ],
   "source": [
    "{1, 3, 5} ^ {2, 3, 4}"
   ]
  },
  {
   "cell_type": "code",
   "execution_count": 43,
   "id": "fdd3d41a-f768-4692-b765-db4a48b3c696",
   "metadata": {},
   "outputs": [
    {
     "data": {
      "text/plain": [
       "{1, 2, 4, 5, 7}"
      ]
     },
     "execution_count": 43,
     "metadata": {},
     "output_type": "execute_result"
    }
   ],
   "source": [
    "{1, 3, 5, 7}.symmetric_difference([2, 2, 3, 3, 4, 4])"
   ]
  },
  {
   "cell_type": "code",
   "execution_count": 44,
   "id": "8741984d-bf69-4a3f-96c4-12455965ff8a",
   "metadata": {},
   "outputs": [
    {
     "data": {
      "text/plain": [
       "True"
      ]
     },
     "execution_count": 44,
     "metadata": {},
     "output_type": "execute_result"
    }
   ],
   "source": [
    "{1, 3, 5}.isdisjoint({2, 4, 6})"
   ]
  },
  {
   "cell_type": "code",
   "execution_count": 45,
   "id": "cb04c1c6-c8f4-42b1-af04-d6d0e4c7e6e0",
   "metadata": {},
   "outputs": [
    {
     "data": {
      "text/plain": [
       "False"
      ]
     },
     "execution_count": 45,
     "metadata": {},
     "output_type": "execute_result"
    }
   ],
   "source": [
    "{1, 3, 5}.isdisjoint({4, 6, 1})"
   ]
  },
  {
   "cell_type": "markdown",
   "id": "2975af11-1dcf-4571-9aee-1eebf2f94023",
   "metadata": {},
   "source": [
    "6.3.2 Self Check 2"
   ]
  },
  {
   "cell_type": "code",
   "execution_count": 46,
   "id": "7824a7be-c152-4498-bf5a-c4f7a0cdb5fd",
   "metadata": {},
   "outputs": [
    {
     "data": {
      "text/plain": [
       "{30}"
      ]
     },
     "execution_count": 46,
     "metadata": {},
     "output_type": "execute_result"
    }
   ],
   "source": [
    "{10, 20, 30} - {5, 10, 15, 20}"
   ]
  },
  {
   "cell_type": "code",
   "execution_count": 47,
   "id": "33a4d2b2-614b-41a2-a0e9-af6d85f7124c",
   "metadata": {},
   "outputs": [
    {
     "data": {
      "text/plain": [
       "{5, 15, 30}"
      ]
     },
     "execution_count": 47,
     "metadata": {},
     "output_type": "execute_result"
    }
   ],
   "source": [
    "{10, 20, 30} ^ {5, 10, 15, 20}"
   ]
  },
  {
   "cell_type": "code",
   "execution_count": 48,
   "id": "99c3a1b9-2197-4554-8a68-e0180d170eb8",
   "metadata": {},
   "outputs": [
    {
     "data": {
      "text/plain": [
       "{5, 10, 15, 20, 30}"
      ]
     },
     "execution_count": 48,
     "metadata": {},
     "output_type": "execute_result"
    }
   ],
   "source": [
    "{10, 20, 30} |{5, 10, 15, 20}"
   ]
  },
  {
   "cell_type": "code",
   "execution_count": 49,
   "id": "46fda308-9ca1-4e29-aa43-1656aed4d8d6",
   "metadata": {},
   "outputs": [
    {
     "data": {
      "text/plain": [
       "{10, 20}"
      ]
     },
     "execution_count": 49,
     "metadata": {},
     "output_type": "execute_result"
    }
   ],
   "source": [
    "{10, 20, 30} & {5, 10, 15, 20}"
   ]
  },
  {
   "cell_type": "markdown",
   "id": "2f1991aa-b242-4a81-bf33-f931b3afda6b",
   "metadata": {},
   "source": [
    "6.3.3 Mutable Set Operators and Methods"
   ]
  },
  {
   "cell_type": "code",
   "execution_count": 50,
   "id": "f84af59a-1b72-4c60-a2bd-24cf4b2bf64d",
   "metadata": {},
   "outputs": [],
   "source": [
    "numbers = {1, 3, 5}"
   ]
  },
  {
   "cell_type": "code",
   "execution_count": 51,
   "id": "edcbd419-de86-400a-9990-7b823539b973",
   "metadata": {},
   "outputs": [],
   "source": [
    "numbers |= {2, 3, 4}"
   ]
  },
  {
   "cell_type": "code",
   "execution_count": 52,
   "id": "3aaa7064-c66a-439c-9522-b6559c87510c",
   "metadata": {},
   "outputs": [
    {
     "data": {
      "text/plain": [
       "{1, 2, 3, 4, 5}"
      ]
     },
     "execution_count": 52,
     "metadata": {},
     "output_type": "execute_result"
    }
   ],
   "source": [
    "numbers"
   ]
  },
  {
   "cell_type": "code",
   "execution_count": 53,
   "id": "3fd73365-ad46-400e-902f-13a022dc3bde",
   "metadata": {},
   "outputs": [],
   "source": [
    "numbers.update(range(10))"
   ]
  },
  {
   "cell_type": "code",
   "execution_count": 54,
   "id": "751f76e4-02bf-41c1-83f3-5520700b0496",
   "metadata": {},
   "outputs": [
    {
     "data": {
      "text/plain": [
       "{0, 1, 2, 3, 4, 5, 6, 7, 8, 9}"
      ]
     },
     "execution_count": 54,
     "metadata": {},
     "output_type": "execute_result"
    }
   ],
   "source": [
    "numbers"
   ]
  },
  {
   "cell_type": "code",
   "execution_count": 55,
   "id": "4efa05ef-20fd-4b8a-8651-080657aab6b7",
   "metadata": {},
   "outputs": [],
   "source": [
    "numbers.add(17)"
   ]
  },
  {
   "cell_type": "code",
   "execution_count": 56,
   "id": "699781cb-f307-446c-b708-feee41ce2766",
   "metadata": {},
   "outputs": [],
   "source": [
    "numbers.add(3)"
   ]
  },
  {
   "cell_type": "code",
   "execution_count": 57,
   "id": "fad02ca4-4e6b-4858-8e26-1066708038f4",
   "metadata": {},
   "outputs": [
    {
     "data": {
      "text/plain": [
       "{0, 1, 2, 3, 4, 5, 6, 7, 8, 9, 17}"
      ]
     },
     "execution_count": 57,
     "metadata": {},
     "output_type": "execute_result"
    }
   ],
   "source": [
    "numbers"
   ]
  },
  {
   "cell_type": "code",
   "execution_count": 58,
   "id": "c81d9db0-6775-44c1-928d-244c28469a7f",
   "metadata": {},
   "outputs": [],
   "source": [
    "numbers.remove(3)"
   ]
  },
  {
   "cell_type": "code",
   "execution_count": 59,
   "id": "9e4f2c9c-14db-4b06-8766-d8dda9f39f3d",
   "metadata": {},
   "outputs": [
    {
     "data": {
      "text/plain": [
       "{0, 1, 2, 4, 5, 6, 7, 8, 9, 17}"
      ]
     },
     "execution_count": 59,
     "metadata": {},
     "output_type": "execute_result"
    }
   ],
   "source": [
    "numbers"
   ]
  },
  {
   "cell_type": "code",
   "execution_count": 60,
   "id": "5bb86aff-ab9c-4f39-9fbc-d2c5faed285d",
   "metadata": {},
   "outputs": [
    {
     "data": {
      "text/plain": [
       "0"
      ]
     },
     "execution_count": 60,
     "metadata": {},
     "output_type": "execute_result"
    }
   ],
   "source": [
    "numbers.pop()"
   ]
  },
  {
   "cell_type": "code",
   "execution_count": 61,
   "id": "0912d7b1-91c0-44b4-ba62-646fa72aa5e7",
   "metadata": {},
   "outputs": [
    {
     "data": {
      "text/plain": [
       "{1, 2, 4, 5, 6, 7, 8, 9, 17}"
      ]
     },
     "execution_count": 61,
     "metadata": {},
     "output_type": "execute_result"
    }
   ],
   "source": [
    "numbers"
   ]
  },
  {
   "cell_type": "code",
   "execution_count": 66,
   "id": "b95951e2-9da3-4110-891b-416c846c89f1",
   "metadata": {},
   "outputs": [],
   "source": [
    "numbers.clear()"
   ]
  },
  {
   "cell_type": "code",
   "execution_count": 67,
   "id": "ad6cbc6e-e268-4d02-af47-74928ea0e67a",
   "metadata": {},
   "outputs": [
    {
     "data": {
      "text/plain": [
       "set()"
      ]
     },
     "execution_count": 67,
     "metadata": {},
     "output_type": "execute_result"
    }
   ],
   "source": [
    "numbers"
   ]
  },
  {
   "cell_type": "markdown",
   "id": "5735672a-9779-419c-9d8b-defb83454e69",
   "metadata": {},
   "source": [
    "6.2.4 Set Comprehensions"
   ]
  },
  {
   "cell_type": "code",
   "execution_count": 68,
   "id": "13ae21f1-aa24-4b3a-b90d-5de560b1d226",
   "metadata": {},
   "outputs": [],
   "source": [
    "numbers = [1, 2, 2, 3, 4, 5, 6, 6, 7, 8, 9, 10, 10]"
   ]
  },
  {
   "cell_type": "code",
   "execution_count": 69,
   "id": "504cb9f6-74fb-4d75-b1c9-45d4894a8866",
   "metadata": {},
   "outputs": [],
   "source": [
    "evens = {item for item in numbers if item % 2 == 0}"
   ]
  },
  {
   "cell_type": "code",
   "execution_count": 71,
   "id": "2d4a880c-9a5e-479c-9f34-44e4333ed51d",
   "metadata": {},
   "outputs": [
    {
     "data": {
      "text/plain": [
       "{2, 4, 6, 8, 10}"
      ]
     },
     "execution_count": 71,
     "metadata": {},
     "output_type": "execute_result"
    }
   ],
   "source": [
    "evens"
   ]
  },
  {
   "cell_type": "code",
   "execution_count": 72,
   "id": "cba0feb2-3bc1-4a4a-988a-e1cdd121e44c",
   "metadata": {},
   "outputs": [
    {
     "name": "stdout",
     "output_type": "stream",
     "text": [
      "Zach Fuller has completed the Sets exercises\n"
     ]
    }
   ],
   "source": [
    "print('Zach Fuller has completed the Sets exercises')"
   ]
  },
  {
   "cell_type": "code",
   "execution_count": null,
   "id": "3e877658-3ff6-48c1-9b92-c7935122492d",
   "metadata": {},
   "outputs": [],
   "source": []
  }
 ],
 "metadata": {
  "kernelspec": {
   "display_name": "Python 3 (ipykernel)",
   "language": "python",
   "name": "python3"
  },
  "language_info": {
   "codemirror_mode": {
    "name": "ipython",
    "version": 3
   },
   "file_extension": ".py",
   "mimetype": "text/x-python",
   "name": "python",
   "nbconvert_exporter": "python",
   "pygments_lexer": "ipython3",
   "version": "3.9.12"
  }
 },
 "nbformat": 4,
 "nbformat_minor": 5
}

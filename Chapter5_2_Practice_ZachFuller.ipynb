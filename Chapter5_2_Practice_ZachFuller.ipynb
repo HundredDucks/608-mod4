{
 "cells": [
  {
   "cell_type": "markdown",
   "id": "d9773dea-df67-4f2f-af70-397231d39e76",
   "metadata": {},
   "source": [
    "5.2/Checkpoint 1 Practice"
   ]
  },
  {
   "cell_type": "code",
   "execution_count": 1,
   "id": "0208ab12-8d58-4d8e-90f5-eb2906295bcb",
   "metadata": {},
   "outputs": [],
   "source": [
    "c = [-45, 6, 0, 72, 1543]"
   ]
  },
  {
   "cell_type": "code",
   "execution_count": 2,
   "id": "f672ec87-9372-455f-9c4d-e0ef13b372db",
   "metadata": {},
   "outputs": [
    {
     "data": {
      "text/plain": [
       "[-45, 6, 0, 72, 1543]"
      ]
     },
     "execution_count": 2,
     "metadata": {},
     "output_type": "execute_result"
    }
   ],
   "source": [
    "c"
   ]
  },
  {
   "cell_type": "code",
   "execution_count": 3,
   "id": "43511c3e-6fda-451b-b859-a8d967436aee",
   "metadata": {},
   "outputs": [
    {
     "data": {
      "text/plain": [
       "-45"
      ]
     },
     "execution_count": 3,
     "metadata": {},
     "output_type": "execute_result"
    }
   ],
   "source": [
    "c[0]"
   ]
  },
  {
   "cell_type": "code",
   "execution_count": 4,
   "id": "9ee43f0d-54b1-4ca0-922a-a6a158f249ee",
   "metadata": {},
   "outputs": [
    {
     "data": {
      "text/plain": [
       "1543"
      ]
     },
     "execution_count": 4,
     "metadata": {},
     "output_type": "execute_result"
    }
   ],
   "source": [
    "c[4]"
   ]
  },
  {
   "cell_type": "code",
   "execution_count": 6,
   "id": "990d0e65-3915-4c96-9155-6afea2a68445",
   "metadata": {},
   "outputs": [
    {
     "data": {
      "text/plain": [
       "5"
      ]
     },
     "execution_count": 6,
     "metadata": {},
     "output_type": "execute_result"
    }
   ],
   "source": [
    "len(c)"
   ]
  },
  {
   "cell_type": "code",
   "execution_count": 7,
   "id": "63a769e8-0c03-48e0-8c2d-ddd3eb6925ce",
   "metadata": {},
   "outputs": [
    {
     "data": {
      "text/plain": [
       "1543"
      ]
     },
     "execution_count": 7,
     "metadata": {},
     "output_type": "execute_result"
    }
   ],
   "source": [
    "c[-1]"
   ]
  },
  {
   "cell_type": "code",
   "execution_count": 8,
   "id": "84568aea-7516-4b4d-b012-3c13d546cab7",
   "metadata": {},
   "outputs": [
    {
     "data": {
      "text/plain": [
       "-45"
      ]
     },
     "execution_count": 8,
     "metadata": {},
     "output_type": "execute_result"
    }
   ],
   "source": [
    "c[-5]"
   ]
  },
  {
   "cell_type": "code",
   "execution_count": 10,
   "id": "0be15314-fe81-468e-a3b7-6c320ffd6dbd",
   "metadata": {},
   "outputs": [],
   "source": [
    "a = 1"
   ]
  },
  {
   "cell_type": "code",
   "execution_count": 11,
   "id": "d8e29b2e-5a0c-4fa5-a1e9-5f428b66446d",
   "metadata": {},
   "outputs": [],
   "source": [
    "b = 2"
   ]
  },
  {
   "cell_type": "code",
   "execution_count": 12,
   "id": "e51cc8b2-2800-42d0-a00c-7b6325b647e4",
   "metadata": {},
   "outputs": [
    {
     "data": {
      "text/plain": [
       "72"
      ]
     },
     "execution_count": 12,
     "metadata": {},
     "output_type": "execute_result"
    }
   ],
   "source": [
    "c[a + b]"
   ]
  },
  {
   "cell_type": "markdown",
   "id": "a803bc1e-e2d7-4d49-ae73-faa70aa3c3e5",
   "metadata": {},
   "source": [
    "Lists are mutable"
   ]
  },
  {
   "cell_type": "code",
   "execution_count": 13,
   "id": "9e7e1beb-8f9c-481f-acc5-4d4be53f3625",
   "metadata": {},
   "outputs": [],
   "source": [
    "c[4] = 17"
   ]
  },
  {
   "cell_type": "code",
   "execution_count": 14,
   "id": "93ea87e3-2e0f-4e33-809e-d2ecdf849622",
   "metadata": {},
   "outputs": [
    {
     "data": {
      "text/plain": [
       "[-45, 6, 0, 72, 17]"
      ]
     },
     "execution_count": 14,
     "metadata": {},
     "output_type": "execute_result"
    }
   ],
   "source": [
    "c"
   ]
  },
  {
   "cell_type": "markdown",
   "id": "df995ce2-b09d-4af1-a4c3-9c77c6f01a3d",
   "metadata": {},
   "source": [
    "Strings and tuples are immutable"
   ]
  },
  {
   "cell_type": "code",
   "execution_count": 15,
   "id": "96e55575-8f3b-42a8-ad40-be1d62f9a946",
   "metadata": {},
   "outputs": [],
   "source": [
    "s = 'hello'"
   ]
  },
  {
   "cell_type": "code",
   "execution_count": 16,
   "id": "ebc5489c-ffe8-4142-ab79-7b6fccf9d694",
   "metadata": {},
   "outputs": [
    {
     "data": {
      "text/plain": [
       "'h'"
      ]
     },
     "execution_count": 16,
     "metadata": {},
     "output_type": "execute_result"
    }
   ],
   "source": [
    "s[0]"
   ]
  },
  {
   "cell_type": "markdown",
   "id": "0d55d407-10b4-488c-932f-bccd9dc19463",
   "metadata": {},
   "source": [
    "List elements can be used as variables in expressions"
   ]
  },
  {
   "cell_type": "code",
   "execution_count": 17,
   "id": "33238170-18cc-41df-bea4-21458ffbcc6e",
   "metadata": {},
   "outputs": [
    {
     "data": {
      "text/plain": [
       "-39"
      ]
     },
     "execution_count": 17,
     "metadata": {},
     "output_type": "execute_result"
    }
   ],
   "source": [
    "c[0] + c[1] + c[2]"
   ]
  },
  {
   "cell_type": "markdown",
   "id": "c171dc3d-154e-49fe-95e9-73c929725873",
   "metadata": {},
   "source": [
    "Appending a list with +="
   ]
  },
  {
   "cell_type": "code",
   "execution_count": 18,
   "id": "d77e7d85-d465-4fb0-9cae-4ac8806a30fd",
   "metadata": {},
   "outputs": [],
   "source": [
    "a_list = []"
   ]
  },
  {
   "cell_type": "code",
   "execution_count": 19,
   "id": "1594d255-5c2e-4f70-95b3-ca5b2b3f42c4",
   "metadata": {},
   "outputs": [],
   "source": [
    "for number in range(1, 6):\n",
    "    a_list += [number]"
   ]
  },
  {
   "cell_type": "code",
   "execution_count": 20,
   "id": "4eb7eb46-c3e3-44eb-87fc-4f23dd88f5c8",
   "metadata": {},
   "outputs": [
    {
     "data": {
      "text/plain": [
       "[1, 2, 3, 4, 5]"
      ]
     },
     "execution_count": 20,
     "metadata": {},
     "output_type": "execute_result"
    }
   ],
   "source": [
    "a_list"
   ]
  },
  {
   "cell_type": "code",
   "execution_count": 26,
   "id": "0f2973be-381a-4a09-b50c-875d0595e37d",
   "metadata": {},
   "outputs": [],
   "source": [
    "letters = []"
   ]
  },
  {
   "cell_type": "code",
   "execution_count": 27,
   "id": "cbb9f7c2-0195-4267-a564-ef60255751c9",
   "metadata": {},
   "outputs": [],
   "source": [
    "letters += 'Python'"
   ]
  },
  {
   "cell_type": "code",
   "execution_count": 28,
   "id": "cca1548f-c41a-41bc-83e1-770d6f81fc44",
   "metadata": {},
   "outputs": [
    {
     "data": {
      "text/plain": [
       "['P', 'y', 't', 'h', 'o', 'n']"
      ]
     },
     "execution_count": 28,
     "metadata": {},
     "output_type": "execute_result"
    }
   ],
   "source": [
    "letters"
   ]
  },
  {
   "cell_type": "markdown",
   "id": "7583a7df-4726-4a0d-b5a6-0d3548bc7bd6",
   "metadata": {},
   "source": [
    "Concatenating Lists with + (result will be new sequence, originals unchanged)"
   ]
  },
  {
   "cell_type": "code",
   "execution_count": 29,
   "id": "e7d7f925-033d-4042-a2d4-9ac98699a50c",
   "metadata": {},
   "outputs": [],
   "source": [
    "list1 = [10, 20, 30]"
   ]
  },
  {
   "cell_type": "code",
   "execution_count": 30,
   "id": "bd772278-62e1-4e6a-92f7-9922f08896a2",
   "metadata": {},
   "outputs": [],
   "source": [
    "list2 = [40, 50]"
   ]
  },
  {
   "cell_type": "code",
   "execution_count": 31,
   "id": "acfc1a2b-a2c9-4bba-bdc0-7fece440d0a3",
   "metadata": {},
   "outputs": [],
   "source": [
    "concatenated_list = list1 + list2"
   ]
  },
  {
   "cell_type": "code",
   "execution_count": 32,
   "id": "52c91bc0-f5ec-49f2-940e-7d92d4e3c886",
   "metadata": {},
   "outputs": [
    {
     "data": {
      "text/plain": [
       "[10, 20, 30, 40, 50]"
      ]
     },
     "execution_count": 32,
     "metadata": {},
     "output_type": "execute_result"
    }
   ],
   "source": [
    "concatenated_list"
   ]
  },
  {
   "cell_type": "markdown",
   "id": "cc751434-ba32-4b17-99a2-3db130bf2354",
   "metadata": {},
   "source": [
    "Using for and range to acces list indices and values"
   ]
  },
  {
   "cell_type": "code",
   "execution_count": 33,
   "id": "cea2386a-ac58-4272-876d-1a9a68d21179",
   "metadata": {},
   "outputs": [
    {
     "name": "stdout",
     "output_type": "stream",
     "text": [
      "0: 10\n",
      "1: 20\n",
      "2: 30\n",
      "3: 40\n",
      "4: 50\n"
     ]
    }
   ],
   "source": [
    "for i in range(len(concatenated_list)):\n",
    "    print(f'{i}: {concatenated_list[i]}')"
   ]
  },
  {
   "cell_type": "markdown",
   "id": "27a1ee0d-2ff0-40c2-b940-faa09f0c8b87",
   "metadata": {},
   "source": [
    "Comparison Operators"
   ]
  },
  {
   "cell_type": "code",
   "execution_count": 34,
   "id": "edd13011-5ddb-4c64-b3b4-07587446eeb3",
   "metadata": {},
   "outputs": [],
   "source": [
    "a = [1, 2, 3]"
   ]
  },
  {
   "cell_type": "code",
   "execution_count": 35,
   "id": "e255bb21-3375-4909-85ea-f910905e653b",
   "metadata": {},
   "outputs": [],
   "source": [
    "b = [1, 2, 3]"
   ]
  },
  {
   "cell_type": "code",
   "execution_count": 36,
   "id": "7a09e14d-c017-4a86-b074-b9cc0825d402",
   "metadata": {},
   "outputs": [],
   "source": [
    "c = [1, 2, 3, 4]"
   ]
  },
  {
   "cell_type": "code",
   "execution_count": 37,
   "id": "6ee4b91d-c205-4e30-a034-e68b6cad0131",
   "metadata": {},
   "outputs": [
    {
     "data": {
      "text/plain": [
       "True"
      ]
     },
     "execution_count": 37,
     "metadata": {},
     "output_type": "execute_result"
    }
   ],
   "source": [
    "a == b #True: corresponding elements in both are equal"
   ]
  },
  {
   "cell_type": "code",
   "execution_count": 38,
   "id": "32a068b3-6073-41f2-8692-86bcc321d210",
   "metadata": {},
   "outputs": [
    {
     "data": {
      "text/plain": [
       "False"
      ]
     },
     "execution_count": 38,
     "metadata": {},
     "output_type": "execute_result"
    }
   ],
   "source": [
    "a == c #False: a and c have different elements and lengths"
   ]
  },
  {
   "cell_type": "code",
   "execution_count": 39,
   "id": "7edf1ad6-8e0a-42fb-a20f-4ca8700132a4",
   "metadata": {},
   "outputs": [
    {
     "data": {
      "text/plain": [
       "True"
      ]
     },
     "execution_count": 39,
     "metadata": {},
     "output_type": "execute_result"
    }
   ],
   "source": [
    "a < c #True: a has fewer elements than c"
   ]
  },
  {
   "cell_type": "code",
   "execution_count": 40,
   "id": "6f974e64-711d-403c-810c-96bff33a8fb1",
   "metadata": {},
   "outputs": [
    {
     "data": {
      "text/plain": [
       "True"
      ]
     },
     "execution_count": 40,
     "metadata": {},
     "output_type": "execute_result"
    }
   ],
   "source": [
    "c >= b #True: elements 0-2 are equal but c has more elements"
   ]
  },
  {
   "cell_type": "markdown",
   "id": "2bbb1abe-8989-41eb-b48e-aab2391708d4",
   "metadata": {},
   "source": [
    "Self Check 3"
   ]
  },
  {
   "cell_type": "code",
   "execution_count": 41,
   "id": "43f8cde4-5a36-48a3-aaea-6178154e293e",
   "metadata": {},
   "outputs": [],
   "source": [
    "def cube_list(values):\n",
    "    for i in range(len(values)):\n",
    "        values[i] **=3"
   ]
  },
  {
   "cell_type": "code",
   "execution_count": 42,
   "id": "582a2ddb-0319-4902-888e-6c5985c451dd",
   "metadata": {},
   "outputs": [],
   "source": [
    "numbers = [1, 2, 3, 4, 5, 6, 7, 8, 9, 10]"
   ]
  },
  {
   "cell_type": "code",
   "execution_count": 43,
   "id": "ed56a87c-cae6-4e6e-ad30-da3ea6f50c12",
   "metadata": {},
   "outputs": [],
   "source": [
    "cube_list(numbers)"
   ]
  },
  {
   "cell_type": "code",
   "execution_count": 44,
   "id": "2d0e8922-df0e-4f6d-a4cb-7149c09a9171",
   "metadata": {},
   "outputs": [
    {
     "data": {
      "text/plain": [
       "[1, 8, 27, 64, 125, 216, 343, 512, 729, 1000]"
      ]
     },
     "execution_count": 44,
     "metadata": {},
     "output_type": "execute_result"
    }
   ],
   "source": [
    "numbers"
   ]
  },
  {
   "cell_type": "markdown",
   "id": "3404d35f-bf37-4d8d-a937-88effb8fc792",
   "metadata": {},
   "source": [
    "Self Check 4"
   ]
  },
  {
   "cell_type": "code",
   "execution_count": 45,
   "id": "4782f82c-ca4b-440c-afe2-54cc8c832f5e",
   "metadata": {},
   "outputs": [],
   "source": [
    "characters = []"
   ]
  },
  {
   "cell_type": "code",
   "execution_count": 46,
   "id": "f5394d44-a327-4af6-b9ae-97feeaa54630",
   "metadata": {},
   "outputs": [],
   "source": [
    "characters += 'Birthday'"
   ]
  },
  {
   "cell_type": "code",
   "execution_count": 47,
   "id": "a56793a6-ca70-45a1-95e6-a1dbba03171a",
   "metadata": {},
   "outputs": [
    {
     "data": {
      "text/plain": [
       "['B', 'i', 'r', 't', 'h', 'd', 'a', 'y']"
      ]
     },
     "execution_count": 47,
     "metadata": {},
     "output_type": "execute_result"
    }
   ],
   "source": [
    "characters"
   ]
  },
  {
   "cell_type": "code",
   "execution_count": 48,
   "id": "a23f5eae-94b1-4080-a36b-538b4d701709",
   "metadata": {},
   "outputs": [
    {
     "name": "stdout",
     "output_type": "stream",
     "text": [
      "Zach Fuller has completed the exercises for section 5.2\n"
     ]
    }
   ],
   "source": [
    "print('Zach Fuller has completed the exercises for section 5.2')"
   ]
  }
 ],
 "metadata": {
  "kernelspec": {
   "display_name": "Python 3 (ipykernel)",
   "language": "python",
   "name": "python3"
  },
  "language_info": {
   "codemirror_mode": {
    "name": "ipython",
    "version": 3
   },
   "file_extension": ".py",
   "mimetype": "text/x-python",
   "name": "python",
   "nbconvert_exporter": "python",
   "pygments_lexer": "ipython3",
   "version": "3.9.12"
  }
 },
 "nbformat": 4,
 "nbformat_minor": 5
}

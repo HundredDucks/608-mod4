{
 "cells": [
  {
   "cell_type": "markdown",
   "id": "72d7e7c7-b5ec-42f4-a82a-9302fe3100ba",
   "metadata": {},
   "source": [
    "Chapter 6 Practice"
   ]
  },
  {
   "cell_type": "markdown",
   "id": "5193d4f2-ec5b-4de2-b2ff-7af1db763a9e",
   "metadata": {},
   "source": [
    "6.2.1 Creating a DictionaryPractice"
   ]
  },
  {
   "cell_type": "code",
   "execution_count": 1,
   "id": "47a08124-2954-4f4c-9210-7cf5182b8807",
   "metadata": {},
   "outputs": [],
   "source": [
    "country_codes = {'Finland':'fi', 'South Africa':'za', 'Nepal':'np'}"
   ]
  },
  {
   "cell_type": "code",
   "execution_count": 2,
   "id": "28281f55-ec8e-4b50-94cd-4a4c2b61293e",
   "metadata": {},
   "outputs": [
    {
     "data": {
      "text/plain": [
       "{'Finland': 'fi', 'South Africa': 'za', 'Nepal': 'np'}"
      ]
     },
     "execution_count": 2,
     "metadata": {},
     "output_type": "execute_result"
    }
   ],
   "source": [
    "country_codes"
   ]
  },
  {
   "cell_type": "code",
   "execution_count": 3,
   "id": "765d96c5-8111-4b96-bb5e-da43f49a4d7a",
   "metadata": {},
   "outputs": [
    {
     "data": {
      "text/plain": [
       "3"
      ]
     },
     "execution_count": 3,
     "metadata": {},
     "output_type": "execute_result"
    }
   ],
   "source": [
    "len(country_codes)"
   ]
  },
  {
   "cell_type": "code",
   "execution_count": 4,
   "id": "51bcb684-65fa-4115-bbe7-333a65560ad9",
   "metadata": {},
   "outputs": [
    {
     "name": "stdout",
     "output_type": "stream",
     "text": [
      "country_codes is not empty\n"
     ]
    }
   ],
   "source": [
    "if country_codes:\n",
    "    print('country_codes is not empty')\n",
    "else:\n",
    "    print('country_codes is empty')"
   ]
  },
  {
   "cell_type": "code",
   "execution_count": 5,
   "id": "fef4aa4c-0f44-484e-9b7b-41afb6094458",
   "metadata": {},
   "outputs": [],
   "source": [
    "country_codes.clear()"
   ]
  },
  {
   "cell_type": "code",
   "execution_count": 6,
   "id": "356a94dc-1f8c-4d70-8fd1-0435d45320a4",
   "metadata": {},
   "outputs": [
    {
     "name": "stdout",
     "output_type": "stream",
     "text": [
      "country_codes is empty\n"
     ]
    }
   ],
   "source": [
    "if country_codes:\n",
    "    print('country_codes is not empty')\n",
    "else:\n",
    "    print('country_codes is empty')"
   ]
  },
  {
   "cell_type": "markdown",
   "id": "f99fe0ae-98c7-4049-bf09-ee4682c704d4",
   "metadata": {},
   "source": [
    "6.2.1 Self Check 3"
   ]
  },
  {
   "cell_type": "code",
   "execution_count": 7,
   "id": "7b132d61-4eaa-429a-b5b8-64f5dc98df2e",
   "metadata": {},
   "outputs": [],
   "source": [
    "states = {'VT': 'Vermont', 'NH': 'New Hampshire', 'MA': 'Massachusetts'}"
   ]
  },
  {
   "cell_type": "code",
   "execution_count": 8,
   "id": "2939b223-b256-400c-8b34-5a81ba77fdd4",
   "metadata": {},
   "outputs": [
    {
     "data": {
      "text/plain": [
       "{'VT': 'Vermont', 'NH': 'New Hampshire', 'MA': 'Massachusetts'}"
      ]
     },
     "execution_count": 8,
     "metadata": {},
     "output_type": "execute_result"
    }
   ],
   "source": [
    "states"
   ]
  },
  {
   "cell_type": "markdown",
   "id": "d3d4b71a-0e02-4fc2-8823-3c898c12a808",
   "metadata": {},
   "source": [
    "6.2.2 Iterating through a Dictionary"
   ]
  },
  {
   "cell_type": "code",
   "execution_count": 9,
   "id": "b9c6a814-1514-483e-b637-2883038816e8",
   "metadata": {},
   "outputs": [],
   "source": [
    "days_per_month = {'January': 31, 'February': 28, 'March': 31}"
   ]
  },
  {
   "cell_type": "code",
   "execution_count": 10,
   "id": "77512a4b-6a93-46e7-9d11-74e0586c6a81",
   "metadata": {},
   "outputs": [
    {
     "data": {
      "text/plain": [
       "{'January': 31, 'February': 28, 'March': 31}"
      ]
     },
     "execution_count": 10,
     "metadata": {},
     "output_type": "execute_result"
    }
   ],
   "source": [
    "days_per_month"
   ]
  },
  {
   "cell_type": "code",
   "execution_count": 11,
   "id": "3506318f-cf8e-41fc-a3a7-ffa3cb3fdae8",
   "metadata": {},
   "outputs": [
    {
     "name": "stdout",
     "output_type": "stream",
     "text": [
      "January has 31 days\n",
      "February has 28 days\n",
      "March has 31 days\n"
     ]
    }
   ],
   "source": [
    "for month, days in days_per_month.items():\n",
    "    print(f'{month} has {days} days')"
   ]
  },
  {
   "cell_type": "markdown",
   "id": "d02dd42e-0418-457c-951c-b8522081af75",
   "metadata": {},
   "source": [
    "6.2.3 Basic Dictionary Operations"
   ]
  },
  {
   "cell_type": "code",
   "execution_count": 12,
   "id": "e6aefb3a-052e-48da-a5f6-8699e9f1f8bb",
   "metadata": {},
   "outputs": [],
   "source": [
    "roman_numerals = {'I': 1, 'II': 2, 'III': 3, 'V': 5, 'X': 100}"
   ]
  },
  {
   "cell_type": "code",
   "execution_count": 13,
   "id": "a6f37d2f-1b07-4ccd-9ca8-c776b0dc5546",
   "metadata": {},
   "outputs": [
    {
     "data": {
      "text/plain": [
       "{'I': 1, 'II': 2, 'III': 3, 'V': 5, 'X': 100}"
      ]
     },
     "execution_count": 13,
     "metadata": {},
     "output_type": "execute_result"
    }
   ],
   "source": [
    "roman_numerals"
   ]
  },
  {
   "cell_type": "code",
   "execution_count": 14,
   "id": "3dcc57bc-cdbb-4d97-aaa3-85e8583c0ad3",
   "metadata": {},
   "outputs": [
    {
     "data": {
      "text/plain": [
       "5"
      ]
     },
     "execution_count": 14,
     "metadata": {},
     "output_type": "execute_result"
    }
   ],
   "source": [
    "roman_numerals['V']"
   ]
  },
  {
   "cell_type": "code",
   "execution_count": 15,
   "id": "770f2455-8762-47b1-ba70-629b66004d29",
   "metadata": {},
   "outputs": [],
   "source": [
    "roman_numerals['X'] = 10"
   ]
  },
  {
   "cell_type": "code",
   "execution_count": 16,
   "id": "f712e088-1364-434d-91e0-6ed9c6c4cb7b",
   "metadata": {},
   "outputs": [
    {
     "data": {
      "text/plain": [
       "{'I': 1, 'II': 2, 'III': 3, 'V': 5, 'X': 10}"
      ]
     },
     "execution_count": 16,
     "metadata": {},
     "output_type": "execute_result"
    }
   ],
   "source": [
    "roman_numerals"
   ]
  },
  {
   "cell_type": "code",
   "execution_count": 17,
   "id": "d319678b-a7c2-4de8-bc2c-550bb1f9a120",
   "metadata": {},
   "outputs": [],
   "source": [
    "roman_numerals['L'] = 50"
   ]
  },
  {
   "cell_type": "code",
   "execution_count": 18,
   "id": "53fcac80-c12f-4737-9467-1e6bf825391d",
   "metadata": {},
   "outputs": [
    {
     "data": {
      "text/plain": [
       "{'I': 1, 'II': 2, 'III': 3, 'V': 5, 'X': 10, 'L': 50}"
      ]
     },
     "execution_count": 18,
     "metadata": {},
     "output_type": "execute_result"
    }
   ],
   "source": [
    "roman_numerals"
   ]
  },
  {
   "cell_type": "code",
   "execution_count": 19,
   "id": "b8d2b089-27eb-44b6-8d46-e0557d887d7d",
   "metadata": {},
   "outputs": [],
   "source": [
    "del roman_numerals['III']"
   ]
  },
  {
   "cell_type": "code",
   "execution_count": 20,
   "id": "e34cf61f-9a07-4337-a2e2-50f15b1dd9d2",
   "metadata": {},
   "outputs": [
    {
     "data": {
      "text/plain": [
       "{'I': 1, 'II': 2, 'V': 5, 'X': 10, 'L': 50}"
      ]
     },
     "execution_count": 20,
     "metadata": {},
     "output_type": "execute_result"
    }
   ],
   "source": [
    "roman_numerals"
   ]
  },
  {
   "cell_type": "code",
   "execution_count": 21,
   "id": "bb628999-6ce3-4925-bf63-02f8953b3f0c",
   "metadata": {},
   "outputs": [
    {
     "data": {
      "text/plain": [
       "10"
      ]
     },
     "execution_count": 21,
     "metadata": {},
     "output_type": "execute_result"
    }
   ],
   "source": [
    "roman_numerals.pop('X')"
   ]
  },
  {
   "cell_type": "code",
   "execution_count": 22,
   "id": "fd2baea1-a7e1-465f-a00d-d4896bb9d34c",
   "metadata": {},
   "outputs": [
    {
     "data": {
      "text/plain": [
       "{'I': 1, 'II': 2, 'V': 5, 'L': 50}"
      ]
     },
     "execution_count": 22,
     "metadata": {},
     "output_type": "execute_result"
    }
   ],
   "source": [
    "roman_numerals"
   ]
  },
  {
   "cell_type": "code",
   "execution_count": 23,
   "id": "865fdbbf-74ad-4f33-8028-b3a2a3cc33e9",
   "metadata": {},
   "outputs": [
    {
     "ename": "KeyError",
     "evalue": "'III'",
     "output_type": "error",
     "traceback": [
      "\u001b[1;31m---------------------------------------------------------------------------\u001b[0m",
      "\u001b[1;31mKeyError\u001b[0m                                  Traceback (most recent call last)",
      "Input \u001b[1;32mIn [23]\u001b[0m, in \u001b[0;36m<cell line: 1>\u001b[1;34m()\u001b[0m\n\u001b[1;32m----> 1\u001b[0m \u001b[43mroman_numerals\u001b[49m\u001b[43m[\u001b[49m\u001b[38;5;124;43m'\u001b[39;49m\u001b[38;5;124;43mIII\u001b[39;49m\u001b[38;5;124;43m'\u001b[39;49m\u001b[43m]\u001b[49m\n",
      "\u001b[1;31mKeyError\u001b[0m: 'III'"
     ]
    }
   ],
   "source": [
    "roman_numerals['III']"
   ]
  },
  {
   "cell_type": "code",
   "execution_count": 24,
   "id": "e9a362ab-de39-4369-ab68-7e5396e2541a",
   "metadata": {},
   "outputs": [],
   "source": [
    "roman_numerals.get('III')"
   ]
  },
  {
   "cell_type": "code",
   "execution_count": 25,
   "id": "d42aaf78-c80a-4a7f-af5a-2baa8d703419",
   "metadata": {},
   "outputs": [
    {
     "data": {
      "text/plain": [
       "'III not in dictionary'"
      ]
     },
     "execution_count": 25,
     "metadata": {},
     "output_type": "execute_result"
    }
   ],
   "source": [
    "roman_numerals.get('III', 'III not in dictionary')"
   ]
  },
  {
   "cell_type": "code",
   "execution_count": 26,
   "id": "b4883cf3-64ce-4a0c-9152-f70d55b5a25a",
   "metadata": {},
   "outputs": [
    {
     "data": {
      "text/plain": [
       "5"
      ]
     },
     "execution_count": 26,
     "metadata": {},
     "output_type": "execute_result"
    }
   ],
   "source": [
    "roman_numerals.get('V')"
   ]
  },
  {
   "cell_type": "code",
   "execution_count": 27,
   "id": "97b4d052-e4a2-4469-8f3e-89ac83d1d5fa",
   "metadata": {},
   "outputs": [
    {
     "data": {
      "text/plain": [
       "True"
      ]
     },
     "execution_count": 27,
     "metadata": {},
     "output_type": "execute_result"
    }
   ],
   "source": [
    "'V' in roman_numerals"
   ]
  },
  {
   "cell_type": "code",
   "execution_count": 28,
   "id": "36b98f70-fd83-4e9b-91dc-bc2ea0156550",
   "metadata": {},
   "outputs": [
    {
     "data": {
      "text/plain": [
       "False"
      ]
     },
     "execution_count": 28,
     "metadata": {},
     "output_type": "execute_result"
    }
   ],
   "source": [
    "'III' in roman_numerals"
   ]
  },
  {
   "cell_type": "code",
   "execution_count": 29,
   "id": "626e0473-80bd-484b-a5cd-04937349e807",
   "metadata": {},
   "outputs": [
    {
     "data": {
      "text/plain": [
       "True"
      ]
     },
     "execution_count": 29,
     "metadata": {},
     "output_type": "execute_result"
    }
   ],
   "source": [
    "'III' not in roman_numerals"
   ]
  },
  {
   "cell_type": "markdown",
   "id": "09b2451b-f580-443c-a130-280ebfeae599",
   "metadata": {},
   "source": [
    "6.2.3 Self Check 3"
   ]
  },
  {
   "cell_type": "code",
   "execution_count": 30,
   "id": "eb1fab2e-d652-45ec-a698-f813ad4edc36",
   "metadata": {},
   "outputs": [],
   "source": [
    "roman_numerals = {'I': 1, 'II': 2, 'III': 3, 'V': 5, 'X': 100}"
   ]
  },
  {
   "cell_type": "code",
   "execution_count": 31,
   "id": "60bbefb5-3fc8-430f-8d1f-a3f6f22ac5a8",
   "metadata": {},
   "outputs": [],
   "source": [
    "roman_numerals['x'] = 10"
   ]
  },
  {
   "cell_type": "code",
   "execution_count": 32,
   "id": "624d5665-5dcc-435e-b87d-b68b822abe16",
   "metadata": {},
   "outputs": [
    {
     "data": {
      "text/plain": [
       "{'I': 1, 'II': 2, 'III': 3, 'V': 5, 'X': 100, 'x': 10}"
      ]
     },
     "execution_count": 32,
     "metadata": {},
     "output_type": "execute_result"
    }
   ],
   "source": [
    "roman_numerals"
   ]
  },
  {
   "cell_type": "markdown",
   "id": "66396006-ab95-4ea9-8fc8-4eb059b28050",
   "metadata": {},
   "source": [
    "6.2.4 Dictionary Methods keys and values"
   ]
  },
  {
   "cell_type": "code",
   "execution_count": 34,
   "id": "b6347710-3faa-408c-991e-2eafbce0a4ee",
   "metadata": {},
   "outputs": [],
   "source": [
    "months = {'January': 1, 'February': 2, 'March': 3}"
   ]
  },
  {
   "cell_type": "code",
   "execution_count": 35,
   "id": "cfbca326-a341-4d66-9fa5-129d3444b5c0",
   "metadata": {},
   "outputs": [
    {
     "name": "stdout",
     "output_type": "stream",
     "text": [
      "January February March "
     ]
    }
   ],
   "source": [
    "for month_name in months.keys():\n",
    "    print(month_name, end=' ')"
   ]
  },
  {
   "cell_type": "code",
   "execution_count": 36,
   "id": "55f76b9f-4727-4fda-b816-acaa27c125a3",
   "metadata": {},
   "outputs": [
    {
     "name": "stdout",
     "output_type": "stream",
     "text": [
      "1 2 3 "
     ]
    }
   ],
   "source": [
    "for month_number in months.values():\n",
    "    print(month_number, end=' ')"
   ]
  },
  {
   "cell_type": "code",
   "execution_count": 37,
   "id": "d0e7b089-d3b2-4076-a006-c56f7acbf041",
   "metadata": {},
   "outputs": [],
   "source": [
    "months_view = months.keys()"
   ]
  },
  {
   "cell_type": "code",
   "execution_count": 38,
   "id": "ce744200-c8a8-4ac4-af79-b9c372131c1b",
   "metadata": {},
   "outputs": [
    {
     "name": "stdout",
     "output_type": "stream",
     "text": [
      "January February March "
     ]
    }
   ],
   "source": [
    "for key in months_view:\n",
    "    print (key, end=' ')"
   ]
  },
  {
   "cell_type": "code",
   "execution_count": 39,
   "id": "0fa08135-f9ce-493e-a5a9-f8f18e3727ee",
   "metadata": {},
   "outputs": [],
   "source": [
    "months['December'] = 12"
   ]
  },
  {
   "cell_type": "code",
   "execution_count": 40,
   "id": "aaca31e0-8d23-43f1-842d-ae657af3ff81",
   "metadata": {},
   "outputs": [
    {
     "data": {
      "text/plain": [
       "{'January': 1, 'February': 2, 'March': 3, 'December': 12}"
      ]
     },
     "execution_count": 40,
     "metadata": {},
     "output_type": "execute_result"
    }
   ],
   "source": [
    "months"
   ]
  },
  {
   "cell_type": "code",
   "execution_count": 41,
   "id": "177a5f02-c0d6-4207-bc3a-e0b94ce63d76",
   "metadata": {},
   "outputs": [
    {
     "name": "stdout",
     "output_type": "stream",
     "text": [
      "January February March December "
     ]
    }
   ],
   "source": [
    "for key in months_view:\n",
    "    print(key, end=' ')"
   ]
  },
  {
   "cell_type": "code",
   "execution_count": 42,
   "id": "d72681ed-e123-4007-8cf9-4564458450af",
   "metadata": {},
   "outputs": [
    {
     "data": {
      "text/plain": [
       "['January', 'February', 'March', 'December']"
      ]
     },
     "execution_count": 42,
     "metadata": {},
     "output_type": "execute_result"
    }
   ],
   "source": [
    "list(months.keys())"
   ]
  },
  {
   "cell_type": "code",
   "execution_count": 43,
   "id": "d83e76f8-3289-445f-a9c9-8e71ba127b3d",
   "metadata": {},
   "outputs": [
    {
     "data": {
      "text/plain": [
       "[1, 2, 3, 12]"
      ]
     },
     "execution_count": 43,
     "metadata": {},
     "output_type": "execute_result"
    }
   ],
   "source": [
    "list(months.values())"
   ]
  },
  {
   "cell_type": "code",
   "execution_count": 44,
   "id": "2dfecbae-4133-45bd-8fcf-dbc9eb642bd1",
   "metadata": {},
   "outputs": [
    {
     "data": {
      "text/plain": [
       "[('January', 1), ('February', 2), ('March', 3), ('December', 12)]"
      ]
     },
     "execution_count": 44,
     "metadata": {},
     "output_type": "execute_result"
    }
   ],
   "source": [
    "list(months.items())"
   ]
  },
  {
   "cell_type": "code",
   "execution_count": 45,
   "id": "86739cad-eec2-436e-9964-ddc70d5ef1f4",
   "metadata": {},
   "outputs": [
    {
     "name": "stdout",
     "output_type": "stream",
     "text": [
      "December  February  January  March  "
     ]
    }
   ],
   "source": [
    "for month_name in sorted(months.keys()):\n",
    "    print(month_name, end='  ')"
   ]
  },
  {
   "cell_type": "markdown",
   "id": "942bf995-62f3-4386-8670-9c90d7799d3c",
   "metadata": {},
   "source": [
    "6.2.4 Self Check 3"
   ]
  },
  {
   "cell_type": "code",
   "execution_count": 47,
   "id": "60a24b5e-2e4d-41ac-ac63-0f9fa655a792",
   "metadata": {},
   "outputs": [],
   "source": [
    "roman_numerals = {'I': 1, 'II': 2, 'III': 3, 'V': 5}"
   ]
  },
  {
   "cell_type": "code",
   "execution_count": 49,
   "id": "c63b8f59-4741-4551-9b79-0f22c300d1da",
   "metadata": {},
   "outputs": [
    {
     "data": {
      "text/plain": [
       "['I', 'II', 'III', 'V']"
      ]
     },
     "execution_count": 49,
     "metadata": {},
     "output_type": "execute_result"
    }
   ],
   "source": [
    "list(roman_numerals.keys())"
   ]
  },
  {
   "cell_type": "code",
   "execution_count": 50,
   "id": "ea1a3f21-947d-483f-badf-18f003e30548",
   "metadata": {},
   "outputs": [
    {
     "data": {
      "text/plain": [
       "[1, 2, 3, 5]"
      ]
     },
     "execution_count": 50,
     "metadata": {},
     "output_type": "execute_result"
    }
   ],
   "source": [
    "list(roman_numerals.values())"
   ]
  },
  {
   "cell_type": "code",
   "execution_count": 51,
   "id": "06efc7bc-a2d7-4384-a6ef-15d786eca810",
   "metadata": {},
   "outputs": [
    {
     "data": {
      "text/plain": [
       "[('I', 1), ('II', 2), ('III', 3), ('V', 5)]"
      ]
     },
     "execution_count": 51,
     "metadata": {},
     "output_type": "execute_result"
    }
   ],
   "source": [
    "list(roman_numerals.items())"
   ]
  },
  {
   "cell_type": "markdown",
   "id": "42b7680a-853d-4132-a6f2-2c77a67dfcb9",
   "metadata": {},
   "source": [
    "6.2.5 Dictionary Comparisons"
   ]
  },
  {
   "cell_type": "code",
   "execution_count": 52,
   "id": "fa3f0ce0-a343-4c3d-b396-13305b7ac850",
   "metadata": {},
   "outputs": [],
   "source": [
    "country_capitals1 = {'Belgium': 'Brussels', 'Haiti': 'Port-au-Prince'}"
   ]
  },
  {
   "cell_type": "code",
   "execution_count": 53,
   "id": "4fa39dc0-de55-452b-82bd-60253560e47c",
   "metadata": {},
   "outputs": [],
   "source": [
    "country_capitals2 = {'Nepal': 'Kathmandu', 'Uruguay': 'Montevideo'}"
   ]
  },
  {
   "cell_type": "code",
   "execution_count": 54,
   "id": "cc2c703f-b192-4f0c-bf45-5b12bac665c8",
   "metadata": {},
   "outputs": [],
   "source": [
    "country_capitals3 = {'Haiti': 'Port-au-Prince', 'Belgium': 'Burssels'}"
   ]
  },
  {
   "cell_type": "code",
   "execution_count": 57,
   "id": "86d398a4-0026-457e-8b11-dd0076e69042",
   "metadata": {},
   "outputs": [
    {
     "data": {
      "text/plain": [
       "False"
      ]
     },
     "execution_count": 57,
     "metadata": {},
     "output_type": "execute_result"
    }
   ],
   "source": [
    "country_capitals1 == country_capitals2"
   ]
  },
  {
   "cell_type": "code",
   "execution_count": 58,
   "id": "66f05fbe-f244-43b6-8add-0e6d3fbca7bb",
   "metadata": {},
   "outputs": [
    {
     "data": {
      "text/plain": [
       "False"
      ]
     },
     "execution_count": 58,
     "metadata": {},
     "output_type": "execute_result"
    }
   ],
   "source": [
    "country_capitals1 == country_capitals3"
   ]
  },
  {
   "cell_type": "code",
   "execution_count": 59,
   "id": "d08fcccb-8418-471f-a645-51cd358df073",
   "metadata": {},
   "outputs": [
    {
     "data": {
      "text/plain": [
       "True"
      ]
     },
     "execution_count": 59,
     "metadata": {},
     "output_type": "execute_result"
    }
   ],
   "source": [
    "country_capitals1 != country_capitals2"
   ]
  },
  {
   "cell_type": "markdown",
   "id": "b1ba0a1a-de19-45ce-8bf5-e7a0c3321e9e",
   "metadata": {},
   "source": [
    "6.2.6 Example: Dictionary of Student Grades"
   ]
  },
  {
   "cell_type": "code",
   "execution_count": 63,
   "id": "3b8444df-01ea-4b65-bb03-2d059fbc74f4",
   "metadata": {},
   "outputs": [
    {
     "name": "stdout",
     "output_type": "stream",
     "text": [
      "Average for Susan is 92.33\n",
      "Average for Eduardo is 85.67\n",
      "Average for Azizi is 87.33\n",
      "Average for Pantipa is 93.33\n",
      "Class's average is: 89.67\n"
     ]
    }
   ],
   "source": [
    "#fig06_01.py\n",
    "\"\"\"Using a dictionary to represent an instructor's grade book.\"\"\"\n",
    "grade_book = {\n",
    "    'Susan': [92, 85, 100],\n",
    "    'Eduardo': [83, 95, 79],\n",
    "    'Azizi': [91, 89, 82],\n",
    "    'Pantipa': [97, 91, 92]\n",
    "}\n",
    "\n",
    "all_grades_total = 0\n",
    "all_grades_count = 0\n",
    "\n",
    "for name, grades in grade_book.items():\n",
    "    total = sum(grades)\n",
    "    print(f'Average for {name} is {total/len(grades):.2f}')\n",
    "    all_grades_total += total\n",
    "    all_grades_count += len(grades)\n",
    "    \n",
    "print(f\"Class's average is: {all_grades_total / all_grades_count:.2f}\")"
   ]
  },
  {
   "cell_type": "markdown",
   "id": "9982a847-724e-498d-a41f-db1712724290",
   "metadata": {},
   "source": [
    "6.2.7 Example: Word Counts"
   ]
  },
  {
   "cell_type": "code",
   "execution_count": 65,
   "id": "079dbfb3-e005-47fe-99f7-a73ff0237564",
   "metadata": {},
   "outputs": [
    {
     "name": "stdout",
     "output_type": "stream",
     "text": [
      "WORD        COUNT\n",
      "different   1\n",
      "is          2\n",
      "more        1\n",
      "sample      2\n",
      "several     1\n",
      "some        1\n",
      "text        2\n",
      "this        2\n",
      "with        2\n",
      "words       2\n",
      "\n",
      "Number of unique words: 10\n"
     ]
    }
   ],
   "source": [
    "#fig06_02.py\n",
    "\"\"\"Tokenizing a string and counting unique words.\"\"\"\n",
    "\n",
    "text = ('this is sample text with several words '\n",
    "        'this is more sample text with some different words')\n",
    "\n",
    "word_counts = {}\n",
    "\n",
    "#count occurrences of each unique word\n",
    "for word in text.split():\n",
    "    if word in word_counts:\n",
    "        word_counts[word] += 1 #update existing key-value pair\n",
    "    else:\n",
    "        word_counts[word] = 1 #insert new key-value pair\n",
    "    \n",
    "print(f'{\"WORD\":<12}COUNT')\n",
    "\n",
    "for word, count in sorted(word_counts.items()):\n",
    "    print(f'{word:<12}{count}')\n",
    "    \n",
    "print('\\nNumber of unique words:', len(word_counts))"
   ]
  },
  {
   "cell_type": "code",
   "execution_count": 66,
   "id": "a8a331a8-02fe-43f1-9066-a25ff05f0c9f",
   "metadata": {},
   "outputs": [],
   "source": [
    "from collections import Counter"
   ]
  },
  {
   "cell_type": "code",
   "execution_count": 68,
   "id": "eef9287d-e6f2-48da-a212-cccee77b19ee",
   "metadata": {},
   "outputs": [
    {
     "name": "stdout",
     "output_type": "stream",
     "text": [
      "   different 1\n",
      "          is 2\n",
      "        more 1\n",
      "      sample 2\n",
      "     several 1\n",
      "        some 1\n",
      "        text 2\n",
      "        this 2\n",
      "        with 2\n",
      "       words 2\n"
     ]
    }
   ],
   "source": [
    "text = ('this is sample text with several words '\n",
    "        'this is more sample text with some different words')\n",
    "\n",
    "counter = Counter(text.split())\n",
    "\n",
    "for word, count in sorted(counter.items()):\n",
    "    print(f'{word:>12} {count}')"
   ]
  },
  {
   "cell_type": "code",
   "execution_count": 69,
   "id": "f14b2405-9dd3-41a9-b815-50a0d7839267",
   "metadata": {},
   "outputs": [
    {
     "name": "stdout",
     "output_type": "stream",
     "text": [
      "Number of unique keys: 10\n"
     ]
    }
   ],
   "source": [
    "print('Number of unique keys:', len(counter.keys()))"
   ]
  },
  {
   "cell_type": "markdown",
   "id": "f395569e-1cbd-4a93-b7e7-0d1cf951f8d8",
   "metadata": {},
   "source": [
    "6.2.7 Self Check 3"
   ]
  },
  {
   "cell_type": "code",
   "execution_count": 70,
   "id": "8e3b2a03-fef5-42d1-a7e4-285ac0b63850",
   "metadata": {},
   "outputs": [],
   "source": [
    "import random"
   ]
  },
  {
   "cell_type": "code",
   "execution_count": 71,
   "id": "461d4d94-4127-45c6-99a2-68433c0db862",
   "metadata": {},
   "outputs": [],
   "source": [
    "numbers = [random.randrange(1, 6) for i in range(50)]"
   ]
  },
  {
   "cell_type": "code",
   "execution_count": 72,
   "id": "6d2a0257-f44a-4a4d-8e8f-c20da3abee39",
   "metadata": {},
   "outputs": [],
   "source": [
    "from collections import Counter"
   ]
  },
  {
   "cell_type": "code",
   "execution_count": 73,
   "id": "5ac86290-5b69-4a78-aeaa-821478143108",
   "metadata": {},
   "outputs": [],
   "source": [
    "counter = Counter(numbers)"
   ]
  },
  {
   "cell_type": "code",
   "execution_count": 74,
   "id": "283d17f0-01c6-43d7-ad84-1cf9af557fa2",
   "metadata": {},
   "outputs": [
    {
     "name": "stdout",
     "output_type": "stream",
     "text": [
      "1    13\n",
      "2    8\n",
      "3    11\n",
      "4    10\n",
      "5    8\n"
     ]
    }
   ],
   "source": [
    "for value, count in sorted(counter.items()):\n",
    "    print(f'{value:<4} {count}')"
   ]
  },
  {
   "cell_type": "markdown",
   "id": "7975639b-d43c-4d6a-9bec-ac2ee1328332",
   "metadata": {},
   "source": [
    "Zach Fuller's Example for Screenshot 4"
   ]
  },
  {
   "cell_type": "code",
   "execution_count": 75,
   "id": "01c8565e-bcfe-4022-96d8-481069d6bbec",
   "metadata": {},
   "outputs": [],
   "source": [
    "from collections import Counter"
   ]
  },
  {
   "cell_type": "code",
   "execution_count": 79,
   "id": "dc20377b-cd09-40af-879c-165971d495a4",
   "metadata": {},
   "outputs": [
    {
     "name": "stdout",
     "output_type": "stream",
     "text": [
      "           I 1\n",
      "           a 1\n",
      "          be 1\n",
      "         can 1\n",
      "          do 1\n",
      "        fill 1\n",
      "    giberish 3\n",
      "        here 2\n",
      "         how 1\n",
      "          in 1\n",
      "     include 1\n",
      "        into 1\n",
      "          is 3\n",
      "          it 1\n",
      "        kind 1\n",
      "        load 1\n",
      "        long 1\n",
      "          of 2\n",
      "          on 1\n",
      "     running 1\n",
      "      sample 1\n",
      "        some 1\n",
      "       space 1\n",
      "       spell 1\n",
      "        sure 1\n",
      "        text 2\n",
      "        this 2\n",
      "          to 2\n",
      "     turning 1\n",
      "          up 1\n",
      "        want 1\n",
      "        what 1\n",
      "    whatever 1\n",
      "         you 1\n",
      "Zach Fullers giberish(gibberish?) themed code has run successfully\n"
     ]
    }
   ],
   "source": [
    "text = ('here is some sample text to fill up space '\n",
    "        'it can be whatever giberish I want to include in here ' \n",
    "        'how do you spell giberish ' \n",
    "        'this sure is running on kind of long ' \n",
    "        'what a load of giberish this text is turning into ')\n",
    "\n",
    "counter = Counter(text.split())\n",
    "\n",
    "for word, count in sorted(counter.items()):\n",
    "    print(f'{word:>12} {count}')\n",
    "    \n",
    "print('Zach Fullers giberish(gibberish?) themed code has run successfully')"
   ]
  },
  {
   "cell_type": "markdown",
   "id": "f8a59edc-9efe-470c-8bff-e9e345d1f093",
   "metadata": {},
   "source": [
    "6.2.8 Dictionary Method update"
   ]
  },
  {
   "cell_type": "code",
   "execution_count": 80,
   "id": "a47c54ac-bda4-4bc3-a8bb-5c2f7f7f0da0",
   "metadata": {},
   "outputs": [],
   "source": [
    "country_codes = {}"
   ]
  },
  {
   "cell_type": "code",
   "execution_count": 81,
   "id": "340750b8-243c-4ed3-9576-1683a36f529e",
   "metadata": {},
   "outputs": [],
   "source": [
    "country_codes.update({'South Africa': 'za'})"
   ]
  },
  {
   "cell_type": "code",
   "execution_count": 82,
   "id": "e2fe4ed9-8356-4bd0-b342-7572079fb645",
   "metadata": {},
   "outputs": [
    {
     "data": {
      "text/plain": [
       "{'South Africa': 'za'}"
      ]
     },
     "execution_count": 82,
     "metadata": {},
     "output_type": "execute_result"
    }
   ],
   "source": [
    "country_codes"
   ]
  },
  {
   "cell_type": "code",
   "execution_count": 83,
   "id": "7debb2e7-52d8-4daa-b7e0-5456cacc9e46",
   "metadata": {},
   "outputs": [],
   "source": [
    "country_codes.update(Australia='ar')"
   ]
  },
  {
   "cell_type": "code",
   "execution_count": 84,
   "id": "d64bddc3-00f2-42d9-a167-a44903dad157",
   "metadata": {},
   "outputs": [
    {
     "data": {
      "text/plain": [
       "{'South Africa': 'za', 'Australia': 'ar'}"
      ]
     },
     "execution_count": 84,
     "metadata": {},
     "output_type": "execute_result"
    }
   ],
   "source": [
    "country_codes"
   ]
  },
  {
   "cell_type": "code",
   "execution_count": 85,
   "id": "bdb7a1a8-504c-4bbd-b442-2ef06e1ff18e",
   "metadata": {},
   "outputs": [],
   "source": [
    "country_codes.update(Australia='au')"
   ]
  },
  {
   "cell_type": "code",
   "execution_count": 86,
   "id": "53efc382-ec58-466e-9a9a-a0732d0c9ff6",
   "metadata": {},
   "outputs": [
    {
     "data": {
      "text/plain": [
       "{'South Africa': 'za', 'Australia': 'au'}"
      ]
     },
     "execution_count": 86,
     "metadata": {},
     "output_type": "execute_result"
    }
   ],
   "source": [
    "country_codes"
   ]
  },
  {
   "cell_type": "markdown",
   "id": "9196575a-2ef3-4293-b12d-1d164b630470",
   "metadata": {},
   "source": [
    "6.2.9 Dictionary Comprehensions"
   ]
  },
  {
   "cell_type": "code",
   "execution_count": 87,
   "id": "ac34c911-82e5-45c9-bcb1-cdb8ff0cb001",
   "metadata": {},
   "outputs": [],
   "source": [
    "months = {'January': 1, 'February': 2, 'March': 3}"
   ]
  },
  {
   "cell_type": "code",
   "execution_count": 88,
   "id": "a93d116c-7489-454e-ac5d-86dd07ad1539",
   "metadata": {},
   "outputs": [],
   "source": [
    "months2 = {number: name for name, number in months.items()}"
   ]
  },
  {
   "cell_type": "code",
   "execution_count": 89,
   "id": "882a8264-3f75-4868-9b8b-df9fbeeb897e",
   "metadata": {},
   "outputs": [
    {
     "data": {
      "text/plain": [
       "{1: 'January', 2: 'February', 3: 'March'}"
      ]
     },
     "execution_count": 89,
     "metadata": {},
     "output_type": "execute_result"
    }
   ],
   "source": [
    "months2"
   ]
  },
  {
   "cell_type": "code",
   "execution_count": 90,
   "id": "329d0afa-17e0-4de6-95f7-57555a80bcae",
   "metadata": {},
   "outputs": [],
   "source": [
    "grades = {'Sue': [98, 87, 94], 'Bob': [84, 95, 91]}"
   ]
  },
  {
   "cell_type": "code",
   "execution_count": 91,
   "id": "5b38bccb-ed34-4aee-8cdf-809d2799e36a",
   "metadata": {},
   "outputs": [],
   "source": [
    "grades2 = {k:sum(v) / len(v) for k, v in grades.items()}"
   ]
  },
  {
   "cell_type": "code",
   "execution_count": 92,
   "id": "9e03172c-489d-4c3d-b18e-4f2a62220413",
   "metadata": {},
   "outputs": [
    {
     "data": {
      "text/plain": [
       "{'Sue': 93.0, 'Bob': 90.0}"
      ]
     },
     "execution_count": 92,
     "metadata": {},
     "output_type": "execute_result"
    }
   ],
   "source": [
    "grades2"
   ]
  },
  {
   "cell_type": "markdown",
   "id": "d2723b08-bf05-4aa7-ad23-719021456bf3",
   "metadata": {},
   "source": [
    "6.2.9 Self Check 1"
   ]
  },
  {
   "cell_type": "code",
   "execution_count": 94,
   "id": "4dbf1cb7-f1cc-4edd-ad4b-2ff98660c1a5",
   "metadata": {},
   "outputs": [
    {
     "data": {
      "text/plain": [
       "{1: 1, 2: 8, 3: 27, 4: 64, 5: 125}"
      ]
     },
     "execution_count": 94,
     "metadata": {},
     "output_type": "execute_result"
    }
   ],
   "source": [
    "{number: number ** 3 for number in range(1, 6)}"
   ]
  },
  {
   "cell_type": "code",
   "execution_count": null,
   "id": "fa30d5a1-8337-4d74-b25a-62bf277baa34",
   "metadata": {},
   "outputs": [],
   "source": []
  }
 ],
 "metadata": {
  "kernelspec": {
   "display_name": "Python 3 (ipykernel)",
   "language": "python",
   "name": "python3"
  },
  "language_info": {
   "codemirror_mode": {
    "name": "ipython",
    "version": 3
   },
   "file_extension": ".py",
   "mimetype": "text/x-python",
   "name": "python",
   "nbconvert_exporter": "python",
   "pygments_lexer": "ipython3",
   "version": "3.9.12"
  }
 },
 "nbformat": 4,
 "nbformat_minor": 5
}
